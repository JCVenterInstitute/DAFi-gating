{
 "cells": [
  {
   "cell_type": "code",
   "execution_count": null,
   "metadata": {
    "extensions": {
     "jupyter_dashboards": {
      "version": 1,
      "views": {
       "grid_default": {
        "col": 0,
        "height": 4,
        "hidden": false,
        "row": 0,
        "width": 4
       },
       "report_default": {
        "hidden": true
       }
      }
     }
    }
   },
   "outputs": [],
   "source": [
    "#OS level tools\n",
    "import os\n",
    "import time\n",
    "import itertools\n",
    "from collections import defaultdict\n",
    "from glob import glob\n",
    "import psutil\n",
    "from functools import partial\n",
    "import re\n",
    "\n",
    "#array and data structure\n",
    "import numpy as np\n",
    "import pandas as pd\n",
    "\n",
    "#Statistical analysis\n",
    "#import seaborn as sb\n",
    "#from sklearn.metrics import f1_score\n",
    "\n",
    "#Ipython display and widgets\n",
    "import ipywidgets as widgets\n",
    "from IPython.display import Image, HTML, display\n",
    "from IPython.display import clear_output\n",
    "from IPython.display import Markdown as md\n",
    "\n",
    "#from ipywidgets import interact_manual\n",
    "\n",
    "#holoviews and plotting\n",
    "import holoviews as hv\n",
    "import datashader as ds\n",
    "from holoviews.operation.datashader import aggregate, shade, datashade\n",
    "#from holoviews.operation import decimate\n",
    "from matplotlib.cm import viridis, jet\n",
    "\n",
    "#dask parallelization\n",
    "#import dask.dataframe as dd\n",
    "from dask import compute, delayed\n",
    "import dask.threaded\n",
    "#import dask.multiprocessing\n",
    "\n",
    "#color assignment\n",
    "cmap_fire=['brown', 'maroon', 'red', 'orange', 'yellow', 'white']\n",
    "cmap_raw=['blue','green','orange', 'red']\n",
    "cmap_all=['white','white']\n",
    "cmap_parent=['black','grey']\n",
    "cmap_pop=(['darkgreen','lightgreen'], ['darkorange','yellow'], ['purple','blueviolet'], ['darkblue','lightblue'], ['indianred','red'])\n",
    "for i in range(5):\n",
    "    cmap_pop=cmap_pop+cmap_pop\n",
    "background = '#D3D3D3'\n",
    "\n",
    "#export path assignment\n",
    "#temp_path='/scratch/'+os.environ['USER']+'/'+os.environ['SLURM_JOBID']\n",
    "export_path=\"PNG\"\n",
    "#export = partial(export_image, export_path=export_path, background=background)\n",
    "\n",
    "hv.notebook_extension('bokeh')\n",
    "display(HTML(\"<style>.container { width:100% !important;}</style>\"))"
   ]
  },
  {
   "cell_type": "code",
   "execution_count": null,
   "metadata": {
    "extensions": {
     "jupyter_dashboards": {
      "version": 1,
      "views": {
       "grid_default": {},
       "report_default": {
        "hidden": true
       }
      }
     }
    }
   },
   "outputs": [],
   "source": [
    "hv.opts(\"RGB [toolbar=None, width=400, height=400, bgcolor='#D3D3D3', fontsize={'title':15, 'xlabel':10, 'ylabel':10, 'ticks':5}]\")"
   ]
  },
  {
   "cell_type": "code",
   "execution_count": null,
   "metadata": {
    "extensions": {
     "jupyter_dashboards": {
      "version": 1,
      "views": {
       "grid_default": {
        "hidden": true
       },
       "report_default": {
        "hidden": true
       }
      }
     }
    }
   },
   "outputs": [],
   "source": [
    "def config_objects(s):\n",
    "    try:\n",
    "        with open(s) as config_file:\n",
    "            config_file.seek(0)\n",
    "            gates={}\n",
    "            for line in config_file:\n",
    "                phenoType=\"\"\n",
    "                line = line.strip()\n",
    "                gate = line.split(\"\\t\")\n",
    "                if len(gate)==12:\n",
    "                    phenoType=gate[11]\n",
    "                gates.update({\"pop\"+str(gate[0]):[int(gate[0]), int(gate[1]), int(gate[2]), int(gate[3]), int(gate[4]), int(gate[5]), int(gate[6]), int(gate[7]), int(gate[8]), int(gate[9]), int(gate[10]), phenoType]})\n",
    "            return gates\n",
    "    except:\n",
    "        raise Exception(\"Error parsing configuration file\")\n",
    "        \n",
    "def config_summary(s, h):\n",
    "    try:\n",
    "        with open(s) as config_file:\n",
    "            config_file.seek(0)\n",
    "            gates={}\n",
    "            for line in config_file:\n",
    "                phenoType=\"\"\n",
    "                line = line.strip()\n",
    "                gate = line.split(\"\\t\")\n",
    "                xmarker=str(h[int(gate[1])-1])\n",
    "                ymarker=str(h[int(gate[2])-1])\n",
    "                startx=int((float(gate[3])/200)*4096)\n",
    "                starty=int((float(gate[5])/200)*4096)\n",
    "                endx=int((float(gate[4])/200)*4096)\n",
    "                endy=int((float(gate[6])/200)*4096)\n",
    "                parent=\"pop\"+gate[7]\n",
    "                if len(gate)==12:\n",
    "                    phenoType=gate[11]\n",
    "                gates.update({\"pop\"+str(gate[0]):[int(gate[0]), parent, xmarker, ymarker, phenoType, startx, endx, starty, endy]})\n",
    "            return gates\n",
    "    except:\n",
    "        raise Exception(\"Error parsing configuration file\")\n",
    "        \n",
    "_nsre = re.compile('([0-9]+)')\n",
    "def natural_sort_key(s):\n",
    "    return [int(text) if text.isdigit() else text.lower()\n",
    "            for text in re.split(_nsre, s)]   \n",
    "\n",
    "def natural_sort(l): \n",
    "    #https://stackoverflow.com/a/4836734/846892\n",
    "    convert = lambda text: int(text) if text.isdigit() else text.lower() \n",
    "    alphanum_key = lambda key: [ convert(c) for c in re.split('([0-9]+)', key) ] \n",
    "    return sorted(l, key = alphanum_key)\n",
    "\n",
    "def natural_keys(text):\n",
    "    '''\n",
    "    alist.sort(key=natural_keys) sorts in human order\n",
    "    http://nedbatchelder.com/blog/200712/human_sorting.html\n",
    "    (See Toothy's implementation in the comments)\n",
    "    '''\n",
    "    def atoi(text):\n",
    "        return int(text) if text.isdigit() else text\n",
    "\n",
    "    return [atoi(c) for c in re.split('(\\d+)', text)]\n",
    "\n",
    "def label_color (pops, row):\n",
    "    eventcolor=0\n",
    "    for i, pop in enumerate(pops):\n",
    "        if row[pop]==0:\n",
    "            eventcolor=i+1\n",
    "    return eventcolor\n",
    "\n",
    "def label_color2 (pops, row):\n",
    "    eventcolor=\"base\"\n",
    "    for i, pop in enumerate(pops):\n",
    "        if row[pop]==0:\n",
    "            eventcolor=pop\n",
    "    return eventcolor\n",
    "\n",
    "def parseCohort(s):\n",
    "    cohort_file=open(s)\n",
    "    \n",
    "    return\n",
    "\n",
    "def parseDataFrame(s):\n",
    "    result_file=open(s)\n",
    "    sampleLabel=os.path.splitext(s)[0]\n",
    "    events = sum(1 for line in result_file) -1 #quickly determine number of events\n",
    "    result_file.seek(0) #rewind file to beginning\n",
    "    header = result_file.readline()\n",
    "    header = header.strip()\n",
    "    headers = header.split(\"\\t\")\n",
    "    \n",
    "    pop_offset=len(headers)\n",
    "    popList=[]\n",
    "    for i,header in enumerate(headers):\n",
    "        if header == \"pop1\":\n",
    "            pop_offset=i\n",
    "        if \"pop\" in header:\n",
    "            popList.append(header)\n",
    "    markers = headers[0:pop_offset]\n",
    "    result_file.seek(0) #rewind file to beginning\n",
    "    \n",
    "    df = pd.read_csv(s, sep='\\t')\n",
    "    dataIndex={}\n",
    "    for i,header in enumerate(headers):\n",
    "        dataIndex.update({header:i})\n",
    "    df['pop0']=0\n",
    "    return [sampleLabel,headers,markers,popList,df]\n",
    "\n",
    "def parseDAFi(s):\n",
    "    df = pd.read_csv(s, sep='\\t')\n",
    "    df['pop0']=0\n",
    "    return df\n",
    "\n",
    "def html_row(file):\n",
    "     return '<img src=\"{}\" style=\"display:inline;margin:1px\" title=\"{}\"/>'.format(export_path+\"/\"+file+\".png\",file,file)"
   ]
  },
  {
   "cell_type": "markdown",
   "metadata": {},
   "source": [
    "# Composite 2D/3D Dot Plots"
   ]
  },
  {
   "cell_type": "code",
   "execution_count": null,
   "metadata": {},
   "outputs": [],
   "source": [
    "titlefilename=glob('description.txt')\n",
    "if titlefilename:\n",
    "    titlefile=open(titlefilename[0])\n",
    "    title=titlefile.readline()\n",
    "    titlefile.close()\n",
    "    display(md(\"# Dataset: %s\"%(title)))\n",
    "else:\n",
    "    display(md(\"# Dataset: no description given\"))"
   ]
  },
  {
   "cell_type": "markdown",
   "metadata": {},
   "source": [
    "## Metadata"
   ]
  },
  {
   "cell_type": "code",
   "execution_count": null,
   "metadata": {},
   "outputs": [],
   "source": [
    "%%output backend='bokeh'\n",
    "%%opts Table [width=1200]\n",
    "metadatafilename=glob('metadata.txt')\n",
    "if metadatafilename:\n",
    "    metadatafile=open(metadatafilename[0])\n",
    "    metaheader = metadatafile.readline()\n",
    "    metaheader = metaheader.strip()\n",
    "    metaheaders = metaheader.split(\"\\t\")\n",
    "    metaDf=pd.read_csv('metadata.txt', sep='\\t')\n",
    "    metaTable=hv.Table(metaDf)\n",
    "    display(md(\"## Metadata\"))\n",
    "    display(metaTable)\n",
    "else:\n",
    "    display(md(\"## No metadata info given\"))"
   ]
  },
  {
   "cell_type": "code",
   "execution_count": null,
   "metadata": {
    "extensions": {
     "jupyter_dashboards": {
      "version": 1,
      "views": {
       "grid_default": {},
       "report_default": {
        "hidden": true
       }
      }
     }
    }
   },
   "outputs": [],
   "source": [
    "gatedFiles=sorted(glob('Gated/*/flock*.txt'))\n",
    "gatedDelayed=[[(os.path.split(os.path.dirname(fn))[1]),delayed(parseDAFi)(fn)] for fn in gatedFiles]\n",
    "sample_labels=[os.path.split(os.path.dirname(fn))[1] for fn in gatedFiles]\n",
    "dfArray=compute(*gatedDelayed, get=dask.threaded.get)"
   ]
  },
  {
   "cell_type": "code",
   "execution_count": null,
   "metadata": {
    "extensions": {
     "jupyter_dashboards": {
      "version": 1,
      "views": {
       "grid_default": {},
       "report_default": {
        "hidden": true
       }
      }
     }
    }
   },
   "outputs": [],
   "source": [
    "headers=list(dfArray[0][1])\n",
    "pop_offset=len(headers)\n",
    "popList=[]\n",
    "for i,header in enumerate(headers):\n",
    "    if header == \"pop1\":\n",
    "        pop_offset=i\n",
    "    if \"pop\" in header:\n",
    "        popList.append(header)\n",
    "markers = headers[0:pop_offset]"
   ]
  },
  {
   "cell_type": "markdown",
   "metadata": {},
   "source": [
    "## DAFi Configuration"
   ]
  },
  {
   "cell_type": "code",
   "execution_count": null,
   "metadata": {
    "extensions": {
     "jupyter_dashboards": {
      "version": 1,
      "views": {
       "grid_default": {},
       "report_default": {
        "hidden": false
       }
      }
     }
    }
   },
   "outputs": [],
   "source": [
    "%%output backend='bokeh'\n",
    "%%opts Table.gates [width=1200]\n",
    "%%opts Table.summary [width=1200]\n",
    "configLabel=\"pipeline.config\"\n",
    "gates=config_objects(configLabel)\n",
    "num_gates = len(gates)\n",
    "summary=config_summary(configLabel, headers)\n",
    "num_gates = len(summary)\n",
    "\n",
    "gatesummary = [v for v in summary.values()]\n",
    "summaryTable=hv.Table(gatesummary,kdims=['Population','Parent','XMarker','YMarker','phenotype','startx', 'endx', 'starty', 'endy'], group='summary', label='Summary')\n",
    "\n",
    "sortedTable=summaryTable.sort('Population')\n",
    "sortedTable"
   ]
  },
  {
   "cell_type": "markdown",
   "metadata": {
    "extensions": {
     "jupyter_dashboards": {
      "version": 1,
      "views": {
       "grid_default": {
        "col": 7,
        "height": 4,
        "hidden": false,
        "row": 26,
        "width": 4
       },
       "report_default": {
        "hidden": false
       }
      }
     }
    }
   },
   "source": [
    "## Marker and Axis Tables"
   ]
  },
  {
   "cell_type": "code",
   "execution_count": null,
   "metadata": {
    "extensions": {
     "jupyter_dashboards": {
      "version": 1,
      "views": {
       "grid_default": {
        "col": 0,
        "height": 22,
        "hidden": false,
        "row": 4,
        "width": 12
       },
       "report_default": {
        "hidden": false
       }
      }
     }
    }
   },
   "outputs": [],
   "source": [
    "%%output backend='bokeh'\n",
    "axis_popIndexDict = defaultdict(list)\n",
    "popBounds={}\n",
    "axises=[]\n",
    "composite_axis=0\n",
    "last_xmarker=\"\"\n",
    "last_ymarker=\"\"\n",
    "last_parent=0\n",
    "gatesconfig=[]\n",
    "for i in range(len(gates)):\n",
    "    pop=\"pop\"+str(i+1)\n",
    "    config=gates.get(pop)\n",
    "    xmarker=str(headers[config[1]-1])\n",
    "    ymarker=str(headers[config[2]-1])\n",
    "    startx=int((float(config[3])/200)*4096)\n",
    "    starty=int((float(config[5])/200)*4096)\n",
    "    endx=int((float(config[4])/200)*4096)\n",
    "    endy=int((float(config[6])/200)*4096)\n",
    "    parent=int(config[7])\n",
    "    ctype=int(config[8])\n",
    "    popBounds.update({pop:[xmarker, ymarker, startx,starty,endx,endy,ctype,\"pop\"+str(parent)]})\n",
    "    key=\"axis\"+str(composite_axis).zfill(2) \n",
    "    if (xmarker != last_xmarker) or (ymarker != last_ymarker) or (parent != last_parent):\n",
    "        composite_axis=composite_axis+1\n",
    "        key=\"axis\"+str(composite_axis).zfill(2)\n",
    "        axises.append([xmarker,ymarker,key,\"pop\"+str(parent)])\n",
    "    axis_popIndexDict[key].append(pop)\n",
    "    last_xmarker=xmarker\n",
    "    last_ymarker=ymarker\n",
    "    last_parent=parent\n",
    "    gatesconfig.append([pop,xmarker,ymarker,parent])\n",
    "poplist=natural_sort(popBounds.keys())\n",
    "num_axises = len(axises)\n",
    "markerTable=hv.Table(markers,kdims=['Marker'])\n",
    "axisTable=hv.Table(axises,kdims=['Xmarker','Ymarker','Axis Index', 'Parent Pop'])\n",
    "axis_popTable=hv.Table(axis_popIndexDict, kdims=['Axis Index'], vdims=['sub populations'])\n",
    "markerTable+axisTable+axis_popTable.sort('Axis Index')"
   ]
  },
  {
   "cell_type": "code",
   "execution_count": null,
   "metadata": {},
   "outputs": [],
   "source": [
    "hv.notebook_extension('matplotlib')"
   ]
  },
  {
   "cell_type": "code",
   "execution_count": null,
   "metadata": {},
   "outputs": [],
   "source": [
    "%%output backend='bokeh'\n",
    "%%opts Table.gates [width=len(sample_labels)*100]\n",
    "%%opts Table.summary [width=len(sample_labels)*100]\n",
    "\n",
    "batchpercent_df = pd.read_csv('Gated/Batch_percentages.txt', sep='\\t', index_col=0)\n",
    "batchevents_df = pd.read_csv('Gated/Batch_events.txt', sep='\\t', index_col=0)\n",
    "#hv.Layout(hv.Table(batchpercent_df,kdims=sample_labels, group='summary', label='Summary')+hv.Table(batchevents_df,kdims=sample_labels, group='summary', label='Summary')).cols(1)"
   ]
  },
  {
   "cell_type": "code",
   "execution_count": null,
   "metadata": {},
   "outputs": [],
   "source": [
    "centroidFiles=sorted(glob('Gated/*/cent*.txt'))\n",
    "reclusterset=set([\"pop\"+os.path.basename(fn).split(\".\")[0].split(\"centroids\")[1]for fn in centroidFiles])"
   ]
  },
  {
   "cell_type": "code",
   "execution_count": null,
   "metadata": {
    "extensions": {
     "jupyter_dashboards": {
      "version": 1,
      "views": {
       "grid_default": {},
       "report_default": {
        "hidden": true
       }
      }
     }
    }
   },
   "outputs": [],
   "source": [
    "hv.opts(\"RGB [width=600, height=600, bgcolor='#D3D3D3', fontsize={'title':15, 'xlabel':10, 'ylabel':10, 'ticks':10}]\")"
   ]
  },
  {
   "cell_type": "code",
   "execution_count": null,
   "metadata": {},
   "outputs": [],
   "source": [
    "hv.opts(\"Points.cent (color='purple' marker='+' size=10)\")"
   ]
  },
  {
   "cell_type": "code",
   "execution_count": null,
   "metadata": {},
   "outputs": [],
   "source": [
    "dfMap={}\n",
    "for k, sample in enumerate(sample_labels):\n",
    "    dfMap.update({sample:k})"
   ]
  },
  {
   "cell_type": "code",
   "execution_count": null,
   "metadata": {},
   "outputs": [],
   "source": [
    "def outputSampleGates(sample):\n",
    "    \n",
    "    filename=export_path+\"/\"+sample\n",
    "    hv.output(hv.NdLayout(combineddfPlots[sample,:]).cols(1), backend='matplotlib', size=200, fig='png', filename=filename)\n",
    "    \n",
    "    return filename\n",
    "\n",
    "def outputPopGates(pop):\n",
    "    \n",
    "    filename=export_path+\"/\"+pop\n",
    "    length=len(combineddfPlots[:,pop])\n",
    "    hv.output(hv.NdLayout(combineddfPlots[:,pop]).cols(length), backend='matplotlib', size=200, fig='png', filename=filename)\n",
    "    \n",
    "    return filename\n",
    "\n",
    "def displaySampleGates(hmap, sample):\n",
    "    \n",
    "    temp=hv.NdLayout(hmap[sample,:]).cols(1)\n",
    "    \n",
    "    return temp\n",
    "\n",
    "def displayPopGates(hmap, pop):\n",
    "    \n",
    "    length=len(hmap[:,pop])\n",
    "    temp=hv.NdLayout(hmap[:,pop]).cols(length)\n",
    "    \n",
    "    return temp"
   ]
  },
  {
   "cell_type": "code",
   "execution_count": null,
   "metadata": {},
   "outputs": [],
   "source": [
    "hv.extension('plotly')"
   ]
  },
  {
   "cell_type": "markdown",
   "metadata": {
    "extensions": {
     "jupyter_dashboards": {
      "version": 1,
      "views": {
       "grid_default": {
        "col": 7,
        "height": 4,
        "hidden": false,
        "row": 30,
        "width": 4
       },
       "report_default": {
        "hidden": false
       }
      }
     }
    }
   },
   "source": [
    "# Composite 2D Dot-Plots Gated Populations"
   ]
  },
  {
   "cell_type": "code",
   "execution_count": null,
   "metadata": {},
   "outputs": [],
   "source": [
    "samplesSelect=widgets.SelectMultiple(\n",
    "    options=sample_labels,\n",
    "    value=[sample_labels[0]],\n",
    "    rows=len(sample_labels),\n",
    "    description='Samples',\n",
    "    disabled=False, layout=widgets.Layout(width='40%')\n",
    ")\n",
    "\n",
    "popsSelect=widgets.SelectMultiple(\n",
    "    options=poplist,\n",
    "    value=[poplist[0]],\n",
    "    rows=len(poplist),\n",
    "    description='Populations',\n",
    "    disabled=False, layout=widgets.Layout(width='15%')\n",
    ")\n",
    "\n",
    "xmarkerSelect=widgets.RadioButtons(\n",
    "    options=markers,\n",
    "    value=markers[0],\n",
    "    description='Xmarker',\n",
    "    disabled=False, layout=widgets.Layout(width='15%')\n",
    ")\n",
    "ymarkerSelect=widgets.RadioButtons(\n",
    "    options=markers,\n",
    "    value=markers[1],\n",
    "    description='Ymarker',\n",
    "    disabled=False, layout=widgets.Layout(width='15%')\n",
    ")\n",
    "zmarkerSelect=widgets.RadioButtons(\n",
    "    options=markers,\n",
    "    value=markers[2],\n",
    "    description='Zmarker',\n",
    "    disabled=False, layout=widgets.Layout(width='15%')\n",
    ")\n",
    "select_ui=widgets.HBox([samplesSelect,popsSelect,xmarkerSelect,ymarkerSelect,zmarkerSelect])"
   ]
  },
  {
   "cell_type": "code",
   "execution_count": null,
   "metadata": {},
   "outputs": [],
   "source": [
    "size=600\n",
    "\n",
    "def updateRaw(samples_selected, xaxis, yaxis):\n",
    "    hv.output(backend=\"matplotlib\")\n",
    "    hv.opts(\"RGB [bgcolor='#D3D3D3', fontsize={'title':20, 'xlabel':15, 'ylabel':15, 'ticks':13}]\")\n",
    "    hv.opts(\"NdLayout [tight=False transpose=False fig_size=200]\")\n",
    "    \n",
    "    output=\"\"\n",
    "    \n",
    "    if (len(samples_selected)>0):\n",
    "        hmap = hv.HoloMap({(sample): datashade(hv.Points(dfArray[dfMap.get(sample)][1], kdims=[xaxis,yaxis]), width=size, height=size, x_range=(0,4096), y_range=(0,4096), dynamic=False, link_inputs=False, cmap=viridis)\n",
    "                    for j, sample in enumerate(samples_selected)}, kdims=['Sample'])\n",
    "        \n",
    "        output=hv.NdLayout(hmap[list(samples_selected)]).cols(len(samples_selected))\n",
    "        \n",
    "    else:\n",
    "        print(\"Please select one or more sample(s) and population(s)\")\n",
    "    return output\n",
    "\n",
    "def update3DRaw(samples_selected, xaxis, yaxis, zaxis):\n",
    "    hv.output(backend=\"plotly\", size=200)\n",
    "    hv.opts(\"Scatter3D [azimuth=40 elevation=20 color_index=2] (size=1 cmap='viridis')\")\n",
    "\n",
    "    output=\"\"\n",
    "    \n",
    "    if (len(samples_selected)>0):\n",
    "        plotArray = hv.HoloMap({(sample): hv.Scatter3D(dfArray[dfMap.get(sample)][1],kdims=[xaxis,yaxis,zaxis])\n",
    "                    for k, sample in enumerate(sample_labels)}, kdims=['Sample'])\n",
    "        output=plotArray\n",
    "    else:\n",
    "        print(\"Please select one or more sample(s) and population(s)\")\n",
    "    return output\n",
    "\n",
    "def update(samples_selected, pops_selected, xaxis, yaxis):\n",
    "    hv.output(backend=\"matplotlib\")\n",
    "    hv.opts(\"RGB [bgcolor='#D3D3D3', fontsize={'title':20, 'xlabel':15, 'ylabel':15, 'ticks':13}]\")\n",
    "    hv.opts(\"NdLayout [tight=False transpose=False fig_size=200]\")\n",
    "    \n",
    "    output=\"\"\n",
    "    \n",
    "    if (len(pops_selected)>0) & (len(samples_selected)>0):\n",
    "        hmap = hv.HoloMap({(pop, sample): datashade(hv.Points(dfArray[dfMap.get(sample)][1], kdims=[xaxis,yaxis]), width=size, height=size, x_range=(0,4096), y_range=(0,4096), dynamic=False, link_inputs=False, cmap=cmap_all)*datashade(hv.Points(dfArray[dfMap.get(sample)][1].loc[dfArray[dfMap.get(sample)][1][pop]==0], kdims=[xaxis,yaxis]), width=size, height=size, x_range=(0,4096), y_range=(0,4096), dynamic=False, link_inputs=False, cmap=cmap_pop[poplist.index(pop)])\n",
    "                    for k, pop in enumerate(pops_selected) for j, sample in enumerate(samples_selected)}, kdims=['Population', 'Sample'])\n",
    "        \n",
    "        output=hv.NdLayout(hmap[list(pops_selected),list(samples_selected)]).cols(len(samples_selected))\n",
    "        \n",
    "    else:\n",
    "        print(\"Please select one or more sample(s) and population(s)\")\n",
    "    return output\n",
    "\n",
    "def updateOverlap(samples_selected, pops_selected, xaxis, yaxis):\n",
    "    hv.output(backend=\"matplotlib\")\n",
    "    hv.opts(\"RGB [bgcolor='#D3D3D3', fontsize={'title':10, 'xlabel':15, 'ylabel':15, 'ticks':13}]\")\n",
    "    hv.opts(\"Layout [tight=False sublabel_format=None fig_size=200]\")\n",
    "    hv.opts(\"NdOverlay [show_title=True fig_size=200]\")\n",
    "    \n",
    "    output=\"\"\n",
    "    \n",
    "    if (len(pops_selected)>0) & (len(samples_selected)>0):\n",
    "        allmap= datashade(hv.Points(dfArray[dfMap.get(samplesSelect.value[0])][1], kdims=[xaxis,yaxis]), width=size, height=size, x_range=(0,4096), y_range=(0,4096), dynamic=False, link_inputs=False, cmap=cmap_all)\n",
    "\n",
    "        hmap = hv.HoloMap({(pop, sample): datashade(hv.Points(dfArray[dfMap.get(sample)][1].loc[dfArray[dfMap.get(sample)][1][pop]==0], kdims=[xaxis,yaxis]), width=size, height=size, x_range=(0,4096), y_range=(0,4096), dynamic=False, link_inputs=False, cmap=cmap_pop[poplist.index(pop)])\n",
    "                    for k, pop in enumerate(pops_selected) for j, sample in enumerate(samples_selected)}, kdims=['Population', 'Sample'])\n",
    "        overlap=[(allmap*hv.NdOverlay(hmap[list(pops_selected), sample])).relabel(sample+str(pops_selected)) for sample in samples_selected]\n",
    "        output=hv.Layout(overlap).cols(len(samples_selected))\n",
    "        \n",
    "    else:\n",
    "        print(\"Please select one or more sample(s) and population(s)\")\n",
    "    return output"
   ]
  },
  {
   "cell_type": "markdown",
   "metadata": {},
   "source": [
    "## Interactive Custom Cross Sample/Population/Markers Composite Plot Generator"
   ]
  },
  {
   "cell_type": "markdown",
   "metadata": {},
   "source": [
    "### Generates Raw or DAFi Gated FCS Plots"
   ]
  },
  {
   "cell_type": "markdown",
   "metadata": {},
   "source": [
    "#### To select multiple samples and populations from the list menu, please holding ctrl or shift key while clicking"
   ]
  },
  {
   "cell_type": "code",
   "execution_count": null,
   "metadata": {},
   "outputs": [],
   "source": [
    "select_ui"
   ]
  },
  {
   "cell_type": "code",
   "execution_count": null,
   "metadata": {},
   "outputs": [],
   "source": [
    "rawgenerate3dButton = widgets.Button(description=\"Add Raw 3DPlot\")\n",
    "rawgenerate2dButton = widgets.Button(description=\"Add Raw 2DPlot\")\n",
    "generateButton = widgets.Button(description=\"Add DAFi 2DPlot\")\n",
    "\n",
    "rawclearButton = widgets.Button(description=\"Clear Canvas\")\n",
    "\n",
    "def on_rawgenerate2dbutton_clicked(b):\n",
    "    display(updateRaw(samplesSelect.value, xmarkerSelect.value, ymarkerSelect.value))\n",
    "def on_rawgenerate3dbutton_clicked(b):\n",
    "    display(update3DRaw(samplesSelect.value, xmarkerSelect.value, ymarkerSelect.value, zmarkerSelect.value))\n",
    "def on_generatebutton_clicked(b):\n",
    "    display(updateOverlap(samplesSelect.value, popsSelect.value, xmarkerSelect.value, ymarkerSelect.value))\n",
    "def on_rawclearbutton_clicked(b):\n",
    "    clear_output()\n",
    "    display(widgets.HBox([rawgenerate2dButton,rawgenerate3dButton,generateButton,rawclearButton]))\n",
    "\n",
    "rawgenerate3dButton.style.button_color = 'yellow'\n",
    "rawgenerate2dButton.style.button_color = 'lightgreen'\n",
    "rawclearButton.style.button_color = 'red'\n",
    "rawclearButton.style.font_weight = 'Bold'\n",
    "rawgenerate2dButton.on_click(on_rawgenerate2dbutton_clicked)\n",
    "rawgenerate3dButton.on_click(on_rawgenerate3dbutton_clicked)\n",
    "generateButton.style.button_color = 'lightblue'\n",
    "generateButton.on_click(on_generatebutton_clicked)\n",
    "rawclearButton.on_click(on_rawclearbutton_clicked)\n",
    "display(widgets.HBox([rawgenerate2dButton,rawgenerate3dButton,generateButton,rawclearButton]))\n",
    "\n",
    "generateButton = widgets.Button(description=\"Generate Plot\")\n",
    "\n"
   ]
  },
  {
   "cell_type": "code",
   "execution_count": null,
   "metadata": {
    "extensions": {
     "jupyter_dashboards": {
      "version": 1,
      "views": {
       "grid_default": {},
       "report_default": {
        "hidden": true
       }
      }
     }
    },
    "scrolled": true
   },
   "outputs": [],
   "source": [
    "display(HTML('''<script>\n",
    "code_show=true; \n",
    "function code_toggle() {\n",
    " if (code_show){\n",
    " $('div.input').hide();\n",
    " } else {\n",
    " $('div.input').show();\n",
    " }\n",
    " code_show = !code_show\n",
    "} \n",
    "$( document ).ready(code_toggle);\n",
    "</script>\n",
    "<form action=\"javascript:code_toggle()\"><input type=\"submit\" value=\"Click here to toggle on/off the programming codes.\"></form>'''))"
   ]
  }
 ],
 "metadata": {
  "extensions": {
   "jupyter_dashboards": {
    "activeView": "report_default",
    "version": 1,
    "views": {
     "grid_default": {
      "cellMargin": 10,
      "defaultCellHeight": 20,
      "maxColumns": 12,
      "name": "grid",
      "type": "grid"
     },
     "report_default": {
      "name": "report",
      "type": "report"
     }
    }
   }
  },
  "kernelspec": {
   "display_name": "Python 3",
   "language": "python",
   "name": "python3"
  },
  "language_info": {
   "codemirror_mode": {
    "name": "ipython",
    "version": 3
   },
   "file_extension": ".py",
   "mimetype": "text/x-python",
   "name": "python",
   "nbconvert_exporter": "python",
   "pygments_lexer": "ipython3",
   "version": "3.6.3"
  },
  "widgets": {
   "application/vnd.jupyter.widget-state+json": {
    "state": {
     "00974a151c8343a09a9ddaf813e42bde": {
      "model_module": "jupyter-js-widgets",
      "model_module_version": "~2.1.4",
      "model_name": "LayoutModel",
      "state": {
       "_model_module_version": "~2.1.4",
       "_view_module_version": "~2.1.4"
      }
     },
     "0199c9d38c2a4fc6a67010e213ec4445": {
      "model_module": "jupyter-js-widgets",
      "model_module_version": "~2.1.4",
      "model_name": "CheckboxModel",
      "state": {
       "_model_module_version": "~2.1.4",
       "_view_module_version": "~2.1.4",
       "description": "50",
       "disabled": false,
       "layout": "IPY_MODEL_ea60cb396e394521af8bf3887bbf0f38",
       "value": false
      }
     },
     "01a6300ffff94cc1a5f24eca47f703bf": {
      "model_module": "jupyter-js-widgets",
      "model_module_version": "~2.1.4",
      "model_name": "LayoutModel",
      "state": {
       "_model_module_version": "~2.1.4",
       "_view_module_version": "~2.1.4"
      }
     },
     "022cd20b46894f25be28c55f8b8d2f6f": {
      "model_module": "jupyter-js-widgets",
      "model_module_version": "~2.1.4",
      "model_name": "CheckboxModel",
      "state": {
       "_model_module_version": "~2.1.4",
       "_view_module_version": "~2.1.4",
       "description": "23",
       "disabled": false,
       "layout": "IPY_MODEL_edb1f1f86a564de99187bf6344498a22",
       "value": false
      }
     },
     "081c68f6f0f3437ea3acc7b5e0dbaab3": {
      "model_module": "jupyter-js-widgets",
      "model_module_version": "~2.1.4",
      "model_name": "CheckboxModel",
      "state": {
       "_model_module_version": "~2.1.4",
       "_view_module_version": "~2.1.4",
       "description": "76",
       "disabled": false,
       "layout": "IPY_MODEL_99ded4ba9b8746658488e004eed215ab",
       "value": false
      }
     },
     "0877a59c7b974703b6aaa10b5f670147": {
      "model_module": "jupyter-js-widgets",
      "model_module_version": "~2.1.4",
      "model_name": "LayoutModel",
      "state": {
       "_model_module_version": "~2.1.4",
       "_view_module_version": "~2.1.4",
       "border": "3px solid black",
       "display": "flex",
       "height": "",
       "overflow_x": "scroll",
       "width": "100%"
      }
     },
     "0fafa11bb0f24d0886f97a92e916a2b1": {
      "model_module": "jupyter-js-widgets",
      "model_module_version": "~2.1.4",
      "model_name": "VBoxModel",
      "state": {
       "_dom_classes": [
        "widget-interact"
       ],
       "_model_module_version": "~2.1.4",
       "_view_module_version": "~2.1.4",
       "children": [
        "IPY_MODEL_52a93e1928e64c92af1fb08b5608f062",
        "IPY_MODEL_aab5f2153c1a48d983935681e7b0e4e5"
       ],
       "layout": "IPY_MODEL_55cbf6d7f27d4105b325e4b8be7f7e78"
      }
     },
     "10f89c82d6274bde842d39dae412f140": {
      "model_module": "jupyter-js-widgets",
      "model_module_version": "~2.1.4",
      "model_name": "DropdownModel",
      "state": {
       "_model_module_version": "~2.1.4",
       "_options_labels": [
        "pop1",
        "pop2",
        "pop3",
        "pop4",
        "pop5"
       ],
       "_view_module_version": "~2.1.4",
       "description": "pop",
       "layout": "IPY_MODEL_5df59ff7a4d04ef0b98db1ff414af28a",
       "value": "pop1"
      }
     },
     "117f13a4fe994dffa930d1ceec24ab1b": {
      "model_module": "jupyter-js-widgets",
      "model_module_version": "~2.1.4",
      "model_name": "LayoutModel",
      "state": {
       "_model_module_version": "~2.1.4",
       "_view_module_version": "~2.1.4"
      }
     },
     "15d6f6328b1b4eca915482befdf2e6c3": {
      "model_module": "jupyter-js-widgets",
      "model_module_version": "~2.1.4",
      "model_name": "BoxModel",
      "state": {
       "_model_module_version": "~2.1.4",
       "_view_module_version": "~2.1.4",
       "children": [
        "IPY_MODEL_5ee82f2db1f34dd9ad71d0bd0e555ebf",
        "IPY_MODEL_ee64ba4d96bd47c292dfde14af81e403",
        "IPY_MODEL_8968c03c9a6f494195c499d8272204c9",
        "IPY_MODEL_022cd20b46894f25be28c55f8b8d2f6f",
        "IPY_MODEL_27d5a6f3078240f693aaa320d8a0fb2d",
        "IPY_MODEL_6b38a08c14044f85814996dfce6ccd3a",
        "IPY_MODEL_30d107eefdd14dc6a988573fd1fed4e0",
        "IPY_MODEL_f0ff65adba8c4949ab64a8fb91e7a6b1",
        "IPY_MODEL_f250fe2cd69047d9b876a686df9208ba",
        "IPY_MODEL_762bad5c8a54434d864f3eb3b739bb9c",
        "IPY_MODEL_82ea12b900f24cc98b49c94942c8a9a0",
        "IPY_MODEL_f73c29dea1f64660a2bc0ab9b878abfe",
        "IPY_MODEL_251473c426964df4bae020b503e08177",
        "IPY_MODEL_4f1da46840e14f5182182183ba168b0d",
        "IPY_MODEL_62ef1f1e59da4ec8affbeccf69300ae9",
        "IPY_MODEL_85208d23419d44c19a7bbf18272bb9ab",
        "IPY_MODEL_d535a0a508934e0899a5c9ce8715ecad",
        "IPY_MODEL_82a325bc3ee64da1bf0c15942e7e844e",
        "IPY_MODEL_081c68f6f0f3437ea3acc7b5e0dbaab3",
        "IPY_MODEL_9571f3bb79b24dfcbf2df7383933c8a2"
       ],
       "layout": "IPY_MODEL_512eb1287b8043f1ae3cbd5238e4819f"
      }
     },
     "1a0aed0d47054b879a94b67496dbeaa1": {
      "model_module": "jupyter-js-widgets",
      "model_module_version": "~2.1.4",
      "model_name": "LayoutModel",
      "state": {
       "_model_module_version": "~2.1.4",
       "_view_module_version": "~2.1.4"
      }
     },
     "24a221a956e1470b87a16ac468ca763f": {
      "model_module": "jupyter-js-widgets",
      "model_module_version": "~2.1.4",
      "model_name": "VBoxModel",
      "state": {
       "_dom_classes": [
        "widget-interact"
       ],
       "_model_module_version": "~2.1.4",
       "_view_module_version": "~2.1.4",
       "children": [
        "IPY_MODEL_43d7ab2852c24bd0a8944eecc5331512",
        "IPY_MODEL_9bde49c1d0a340839ba66cc2d1b648bb"
       ],
       "layout": "IPY_MODEL_2bc4afe1ccfe4363a03fd2a9e67431f8"
      }
     },
     "251473c426964df4bae020b503e08177": {
      "model_module": "jupyter-js-widgets",
      "model_module_version": "~2.1.4",
      "model_name": "CheckboxModel",
      "state": {
       "_model_module_version": "~2.1.4",
       "_view_module_version": "~2.1.4",
       "description": "54",
       "disabled": false,
       "layout": "IPY_MODEL_2b53944788bd4305980a76e6264c6aa6",
       "value": false
      }
     },
     "27d5a6f3078240f693aaa320d8a0fb2d": {
      "model_module": "jupyter-js-widgets",
      "model_module_version": "~2.1.4",
      "model_name": "CheckboxModel",
      "state": {
       "_model_module_version": "~2.1.4",
       "_view_module_version": "~2.1.4",
       "description": "3",
       "disabled": false,
       "layout": "IPY_MODEL_ac26963d737c425ba910b83b97ec1076",
       "value": false
      }
     },
     "2b53944788bd4305980a76e6264c6aa6": {
      "model_module": "jupyter-js-widgets",
      "model_module_version": "~2.1.4",
      "model_name": "LayoutModel",
      "state": {
       "_model_module_version": "~2.1.4",
       "_view_module_version": "~2.1.4"
      }
     },
     "2b8b40c566a9498695b29e538e0b7aa9": {
      "model_module": "jupyter-js-widgets",
      "model_module_version": "~2.1.4",
      "model_name": "LayoutModel",
      "state": {
       "_model_module_version": "~2.1.4",
       "_view_module_version": "~2.1.4"
      }
     },
     "2bc096955474477684c4b2f582534cee": {
      "model_module": "jupyter-js-widgets",
      "model_module_version": "~2.1.4",
      "model_name": "CheckboxModel",
      "state": {
       "_model_module_version": "~2.1.4",
       "_view_module_version": "~2.1.4",
       "description": "35",
       "disabled": false,
       "layout": "IPY_MODEL_01a6300ffff94cc1a5f24eca47f703bf",
       "value": false
      }
     },
     "2bc4afe1ccfe4363a03fd2a9e67431f8": {
      "model_module": "jupyter-js-widgets",
      "model_module_version": "~2.1.4",
      "model_name": "LayoutModel",
      "state": {
       "_model_module_version": "~2.1.4",
       "_view_module_version": "~2.1.4"
      }
     },
     "2db15da59ffc4f909380ad02bab172df": {
      "model_module": "jupyter-js-widgets",
      "model_module_version": "~2.1.4",
      "model_name": "CheckboxModel",
      "state": {
       "_model_module_version": "~2.1.4",
       "_view_module_version": "~2.1.4",
       "description": "60",
       "disabled": false,
       "layout": "IPY_MODEL_5094c4bbf9d7480798b67fd44e7e433e",
       "value": false
      }
     },
     "2e482751562b43d9ab09a0cc7eec418f": {
      "model_module": "jupyter-js-widgets",
      "model_module_version": "~2.1.4",
      "model_name": "CheckboxModel",
      "state": {
       "_model_module_version": "~2.1.4",
       "_view_module_version": "~2.1.4",
       "description": "19",
       "disabled": false,
       "layout": "IPY_MODEL_7b161ef45fe243bea3b72119062bc52c",
       "value": false
      }
     },
     "30d107eefdd14dc6a988573fd1fed4e0": {
      "model_module": "jupyter-js-widgets",
      "model_module_version": "~2.1.4",
      "model_name": "CheckboxModel",
      "state": {
       "_model_module_version": "~2.1.4",
       "_view_module_version": "~2.1.4",
       "description": "33",
       "disabled": false,
       "layout": "IPY_MODEL_cfe0322658974c169fc815298741c2a2",
       "value": false
      }
     },
     "3387709bb44b4e93850acef2da2cc293": {
      "model_module": "jupyter-js-widgets",
      "model_module_version": "~2.1.4",
      "model_name": "LayoutModel",
      "state": {
       "_model_module_version": "~2.1.4",
       "_view_module_version": "~2.1.4"
      }
     },
     "33fdda135991424589d34b4e787c6e6c": {
      "model_module": "jupyter-js-widgets",
      "model_module_version": "~2.1.4",
      "model_name": "LayoutModel",
      "state": {
       "_model_module_version": "~2.1.4",
       "_view_module_version": "~2.1.4"
      }
     },
     "342b1dace6514e35966eaf15d55409e1": {
      "model_module": "jupyter-js-widgets",
      "model_module_version": "~2.1.4",
      "model_name": "VBoxModel",
      "state": {
       "_model_module_version": "~2.1.4",
       "_view_module_version": "~2.1.4",
       "children": [
        "IPY_MODEL_3894eb3b7a02471c87ecfe1e8c3ff629",
        "IPY_MODEL_9b926ea80ade4a2f84311a0cca75fe34"
       ],
       "layout": "IPY_MODEL_7db6cb70405e4c5d91110b3df78319f5"
      }
     },
     "36d1a6fa55a14429bc9bd5287aa700d7": {
      "model_module": "jupyter-js-widgets",
      "model_module_version": "~2.1.4",
      "model_name": "LayoutModel",
      "state": {
       "_model_module_version": "~2.1.4",
       "_view_module_version": "~2.1.4",
       "width": "50%"
      }
     },
     "3894eb3b7a02471c87ecfe1e8c3ff629": {
      "model_module": "jupyter-js-widgets",
      "model_module_version": "~2.1.4",
      "model_name": "LabelModel",
      "state": {
       "_model_module_version": "~2.1.4",
       "_view_module_version": "~2.1.4",
       "layout": "IPY_MODEL_8a47c411e9d04b8cb468b7e232cb92a3",
       "value": "Check the Samples to Display:"
      }
     },
     "3aa9dfa40e53409db2cf8e7b428f9f8d": {
      "model_module": "jupyter-js-widgets",
      "model_module_version": "~2.1.4",
      "model_name": "LayoutModel",
      "state": {
       "_model_module_version": "~2.1.4",
       "_view_module_version": "~2.1.4"
      }
     },
     "3fa55484cbf946df8f05b221a35597a2": {
      "model_module": "jupyter-js-widgets",
      "model_module_version": "~2.1.4",
      "model_name": "CheckboxModel",
      "state": {
       "_model_module_version": "~2.1.4",
       "_view_module_version": "~2.1.4",
       "description": "66",
       "disabled": false,
       "layout": "IPY_MODEL_724c4e59ff8b459ca1605d82e9f6492f",
       "value": false
      }
     },
     "41033007b81a453595ef559702231a41": {
      "model_module": "jupyter-js-widgets",
      "model_module_version": "~2.1.4",
      "model_name": "LabelModel",
      "state": {
       "_model_module_version": "~2.1.4",
       "_view_module_version": "~2.1.4",
       "layout": "IPY_MODEL_36d1a6fa55a14429bc9bd5287aa700d7",
       "value": "Check the Samples to Display:"
      }
     },
     "43d7ab2852c24bd0a8944eecc5331512": {
      "model_module": "jupyter-js-widgets",
      "model_module_version": "~2.1.4",
      "model_name": "DropdownModel",
      "state": {
       "_model_module_version": "~2.1.4",
       "_options_labels": [
        "pop1",
        "pop2",
        "pop3",
        "pop4",
        "pop5"
       ],
       "_view_module_version": "~2.1.4",
       "description": "pop",
       "layout": "IPY_MODEL_e5a628a0977045b6bc4e498eec5e15e2",
       "value": "pop1"
      }
     },
     "4f1da46840e14f5182182183ba168b0d": {
      "model_module": "jupyter-js-widgets",
      "model_module_version": "~2.1.4",
      "model_name": "CheckboxModel",
      "state": {
       "_model_module_version": "~2.1.4",
       "_view_module_version": "~2.1.4",
       "description": "58",
       "disabled": false,
       "layout": "IPY_MODEL_dfb3c344b7f948a785b00ed6a3f8bae1",
       "value": false
      }
     },
     "5094c4bbf9d7480798b67fd44e7e433e": {
      "model_module": "jupyter-js-widgets",
      "model_module_version": "~2.1.4",
      "model_name": "LayoutModel",
      "state": {
       "_model_module_version": "~2.1.4",
       "_view_module_version": "~2.1.4"
      }
     },
     "512eb1287b8043f1ae3cbd5238e4819f": {
      "model_module": "jupyter-js-widgets",
      "model_module_version": "~2.1.4",
      "model_name": "LayoutModel",
      "state": {
       "_model_module_version": "~2.1.4",
       "_view_module_version": "~2.1.4",
       "border": "3px solid black",
       "display": "flex",
       "height": "",
       "overflow_x": "scroll",
       "width": "100%"
      }
     },
     "52a93e1928e64c92af1fb08b5608f062": {
      "model_module": "jupyter-js-widgets",
      "model_module_version": "~2.1.4",
      "model_name": "DropdownModel",
      "state": {
       "_model_module_version": "~2.1.4",
       "_options_labels": [
        "pop1",
        "pop2",
        "pop3",
        "pop4",
        "pop5"
       ],
       "_view_module_version": "~2.1.4",
       "description": "pop",
       "layout": "IPY_MODEL_9f48129bf8a441988d3d1c807b992b0c",
       "value": "pop5"
      }
     },
     "54f39371a09a41bdb1fc8f36dcffc7a0": {
      "model_module": "jupyter-js-widgets",
      "model_module_version": "~2.1.4",
      "model_name": "CheckboxModel",
      "state": {
       "_model_module_version": "~2.1.4",
       "_view_module_version": "~2.1.4",
       "description": "74",
       "disabled": false,
       "layout": "IPY_MODEL_5990af1b665b410f989fecf0a728b9cb",
       "value": false
      }
     },
     "55cbf6d7f27d4105b325e4b8be7f7e78": {
      "model_module": "jupyter-js-widgets",
      "model_module_version": "~2.1.4",
      "model_name": "LayoutModel",
      "state": {
       "_model_module_version": "~2.1.4",
       "_view_module_version": "~2.1.4"
      }
     },
     "58dce66e91174fe3989c67b0d24958ad": {
      "model_module": "jupyter-js-widgets",
      "model_module_version": "~2.1.4",
      "model_name": "LayoutModel",
      "state": {
       "_model_module_version": "~2.1.4",
       "_view_module_version": "~2.1.4"
      }
     },
     "5990af1b665b410f989fecf0a728b9cb": {
      "model_module": "jupyter-js-widgets",
      "model_module_version": "~2.1.4",
      "model_name": "LayoutModel",
      "state": {
       "_model_module_version": "~2.1.4",
       "_view_module_version": "~2.1.4"
      }
     },
     "5c68c70e10af4c5c940ff14521963288": {
      "model_module": "jupyter-js-widgets",
      "model_module_version": "~2.1.4",
      "model_name": "LayoutModel",
      "state": {
       "_model_module_version": "~2.1.4",
       "_view_module_version": "~2.1.4"
      }
     },
     "5de27185aeee4aadba0fea825ec2c202": {
      "model_module": "jupyter-js-widgets",
      "model_module_version": "~2.1.4",
      "model_name": "LayoutModel",
      "state": {
       "_model_module_version": "~2.1.4",
       "_view_module_version": "~2.1.4"
      }
     },
     "5df59ff7a4d04ef0b98db1ff414af28a": {
      "model_module": "jupyter-js-widgets",
      "model_module_version": "~2.1.4",
      "model_name": "LayoutModel",
      "state": {
       "_model_module_version": "~2.1.4",
       "_view_module_version": "~2.1.4"
      }
     },
     "5ee82f2db1f34dd9ad71d0bd0e555ebf": {
      "model_module": "jupyter-js-widgets",
      "model_module_version": "~2.1.4",
      "model_name": "CheckboxModel",
      "state": {
       "_model_module_version": "~2.1.4",
       "_view_module_version": "~2.1.4",
       "description": "11",
       "disabled": false,
       "layout": "IPY_MODEL_ff354ac66e4a47feacabede7ada285f1",
       "value": true
      }
     },
     "62ef1f1e59da4ec8affbeccf69300ae9": {
      "model_module": "jupyter-js-widgets",
      "model_module_version": "~2.1.4",
      "model_name": "CheckboxModel",
      "state": {
       "_model_module_version": "~2.1.4",
       "_view_module_version": "~2.1.4",
       "description": "60",
       "disabled": false,
       "layout": "IPY_MODEL_81cef155c9a849bfa5afa516e9fe4280",
       "value": false
      }
     },
     "6584f0fa4f074b5ba1f20e8e9e363004": {
      "model_module": "jupyter-js-widgets",
      "model_module_version": "~2.1.4",
      "model_name": "LayoutModel",
      "state": {
       "_model_module_version": "~2.1.4",
       "_view_module_version": "~2.1.4"
      }
     },
     "65cc29987a484ad080744832254b841f": {
      "model_module": "jupyter-js-widgets",
      "model_module_version": "~2.1.4",
      "model_name": "LayoutModel",
      "state": {
       "_model_module_version": "~2.1.4",
       "_view_module_version": "~2.1.4"
      }
     },
     "6748fef54bc647adb5ead82892dc9be8": {
      "model_module": "jupyter-js-widgets",
      "model_module_version": "~2.1.4",
      "model_name": "LayoutModel",
      "state": {
       "_model_module_version": "~2.1.4",
       "_view_module_version": "~2.1.4"
      }
     },
     "6aa0d88976564d7a9e18b537d7c6b4fc": {
      "model_module": "jupyter-js-widgets",
      "model_module_version": "~2.1.4",
      "model_name": "VBoxModel",
      "state": {
       "_dom_classes": [
        "widget-interact"
       ],
       "_model_module_version": "~2.1.4",
       "_view_module_version": "~2.1.4",
       "children": [
        "IPY_MODEL_10f89c82d6274bde842d39dae412f140",
        "IPY_MODEL_d9d298391735492bb725c3a9d049b968"
       ],
       "layout": "IPY_MODEL_fa7790e40e0545d48825293865be623a"
      }
     },
     "6b38a08c14044f85814996dfce6ccd3a": {
      "model_module": "jupyter-js-widgets",
      "model_module_version": "~2.1.4",
      "model_name": "CheckboxModel",
      "state": {
       "_model_module_version": "~2.1.4",
       "_view_module_version": "~2.1.4",
       "description": "31",
       "disabled": false,
       "layout": "IPY_MODEL_5c68c70e10af4c5c940ff14521963288",
       "value": false
      }
     },
     "6da1ea99aae44871bb4c3e85a2483910": {
      "model_module": "jupyter-js-widgets",
      "model_module_version": "~2.1.4",
      "model_name": "LayoutModel",
      "state": {
       "_model_module_version": "~2.1.4",
       "_view_module_version": "~2.1.4"
      }
     },
     "71e01aba013845b594b98e1e6df99389": {
      "model_module": "jupyter-js-widgets",
      "model_module_version": "~2.1.4",
      "model_name": "LayoutModel",
      "state": {
       "_model_module_version": "~2.1.4",
       "_view_module_version": "~2.1.4"
      }
     },
     "724c4e59ff8b459ca1605d82e9f6492f": {
      "model_module": "jupyter-js-widgets",
      "model_module_version": "~2.1.4",
      "model_name": "LayoutModel",
      "state": {
       "_model_module_version": "~2.1.4",
       "_view_module_version": "~2.1.4"
      }
     },
     "7589f9843e9e4cc09087fb46aaf3ece8": {
      "model_module": "jupyter-js-widgets",
      "model_module_version": "~2.1.4",
      "model_name": "CheckboxModel",
      "state": {
       "_model_module_version": "~2.1.4",
       "_view_module_version": "~2.1.4",
       "description": "39",
       "disabled": false,
       "layout": "IPY_MODEL_3aa9dfa40e53409db2cf8e7b428f9f8d",
       "value": false
      }
     },
     "762bad5c8a54434d864f3eb3b739bb9c": {
      "model_module": "jupyter-js-widgets",
      "model_module_version": "~2.1.4",
      "model_name": "CheckboxModel",
      "state": {
       "_model_module_version": "~2.1.4",
       "_view_module_version": "~2.1.4",
       "description": "44",
       "disabled": false,
       "layout": "IPY_MODEL_acbc0eacb7354011ad9b0d8b4f15c89d",
       "value": false
      }
     },
     "770851ba770d4244a25997074f100ad3": {
      "model_module": "jupyter-js-widgets",
      "model_module_version": "~2.1.4",
      "model_name": "CheckboxModel",
      "state": {
       "_model_module_version": "~2.1.4",
       "_view_module_version": "~2.1.4",
       "description": "58",
       "disabled": false,
       "layout": "IPY_MODEL_d4bee395feab47f79e19ede613d5f8b1",
       "value": false
      }
     },
     "7a48968d7c2147a599d66279a398b1cb": {
      "model_module": "jupyter-js-widgets",
      "model_module_version": "~2.1.4",
      "model_name": "LayoutModel",
      "state": {
       "_model_module_version": "~2.1.4",
       "_view_module_version": "~2.1.4"
      }
     },
     "7b161ef45fe243bea3b72119062bc52c": {
      "model_module": "jupyter-js-widgets",
      "model_module_version": "~2.1.4",
      "model_name": "LayoutModel",
      "state": {
       "_model_module_version": "~2.1.4",
       "_view_module_version": "~2.1.4"
      }
     },
     "7db6cb70405e4c5d91110b3df78319f5": {
      "model_module": "jupyter-js-widgets",
      "model_module_version": "~2.1.4",
      "model_name": "LayoutModel",
      "state": {
       "_model_module_version": "~2.1.4",
       "_view_module_version": "~2.1.4"
      }
     },
     "81cef155c9a849bfa5afa516e9fe4280": {
      "model_module": "jupyter-js-widgets",
      "model_module_version": "~2.1.4",
      "model_name": "LayoutModel",
      "state": {
       "_model_module_version": "~2.1.4",
       "_view_module_version": "~2.1.4"
      }
     },
     "82a325bc3ee64da1bf0c15942e7e844e": {
      "model_module": "jupyter-js-widgets",
      "model_module_version": "~2.1.4",
      "model_name": "CheckboxModel",
      "state": {
       "_model_module_version": "~2.1.4",
       "_view_module_version": "~2.1.4",
       "description": "74",
       "disabled": false,
       "layout": "IPY_MODEL_2b8b40c566a9498695b29e538e0b7aa9",
       "value": false
      }
     },
     "82ea12b900f24cc98b49c94942c8a9a0": {
      "model_module": "jupyter-js-widgets",
      "model_module_version": "~2.1.4",
      "model_name": "CheckboxModel",
      "state": {
       "_model_module_version": "~2.1.4",
       "_view_module_version": "~2.1.4",
       "description": "5",
       "disabled": false,
       "layout": "IPY_MODEL_953a6f7227c24a1a89b1a2df6c983e36",
       "value": false
      }
     },
     "85208d23419d44c19a7bbf18272bb9ab": {
      "model_module": "jupyter-js-widgets",
      "model_module_version": "~2.1.4",
      "model_name": "CheckboxModel",
      "state": {
       "_model_module_version": "~2.1.4",
       "_view_module_version": "~2.1.4",
       "description": "66",
       "disabled": false,
       "layout": "IPY_MODEL_6da1ea99aae44871bb4c3e85a2483910",
       "value": false
      }
     },
     "8596582237b445139668877503d92394": {
      "model_module": "jupyter-js-widgets",
      "model_module_version": "~2.1.4",
      "model_name": "LayoutModel",
      "state": {
       "_model_module_version": "~2.1.4",
       "_view_module_version": "~2.1.4"
      }
     },
     "85bf54f90f8244d7a97552cbbafe8e12": {
      "model_module": "jupyter-js-widgets",
      "model_module_version": "~2.1.4",
      "model_name": "CheckboxModel",
      "state": {
       "_model_module_version": "~2.1.4",
       "_view_module_version": "~2.1.4",
       "description": "13",
       "disabled": false,
       "layout": "IPY_MODEL_3387709bb44b4e93850acef2da2cc293",
       "value": false
      }
     },
     "8968c03c9a6f494195c499d8272204c9": {
      "model_module": "jupyter-js-widgets",
      "model_module_version": "~2.1.4",
      "model_name": "CheckboxModel",
      "state": {
       "_model_module_version": "~2.1.4",
       "_view_module_version": "~2.1.4",
       "description": "19",
       "disabled": false,
       "layout": "IPY_MODEL_9db1476bcc26403e8bbfb43e79873520",
       "value": true
      }
     },
     "8a47c411e9d04b8cb468b7e232cb92a3": {
      "model_module": "jupyter-js-widgets",
      "model_module_version": "~2.1.4",
      "model_name": "LayoutModel",
      "state": {
       "_model_module_version": "~2.1.4",
       "_view_module_version": "~2.1.4",
       "width": "50%"
      }
     },
     "935f3290ff4a410e864b63d128fe1a6c": {
      "model_module": "jupyter-js-widgets",
      "model_module_version": "~2.1.4",
      "model_name": "LayoutModel",
      "state": {
       "_model_module_version": "~2.1.4",
       "_view_module_version": "~2.1.4"
      }
     },
     "953a6f7227c24a1a89b1a2df6c983e36": {
      "model_module": "jupyter-js-widgets",
      "model_module_version": "~2.1.4",
      "model_name": "LayoutModel",
      "state": {
       "_model_module_version": "~2.1.4",
       "_view_module_version": "~2.1.4"
      }
     },
     "9571f3bb79b24dfcbf2df7383933c8a2": {
      "model_module": "jupyter-js-widgets",
      "model_module_version": "~2.1.4",
      "model_name": "CheckboxModel",
      "state": {
       "_model_module_version": "~2.1.4",
       "_view_module_version": "~2.1.4",
       "description": "78",
       "disabled": false,
       "layout": "IPY_MODEL_71e01aba013845b594b98e1e6df99389",
       "value": false
      }
     },
     "95c7d8bffc8e4590aa857c5dbd4b37e2": {
      "model_module": "jupyter-js-widgets",
      "model_module_version": "~2.1.4",
      "model_name": "CheckboxModel",
      "state": {
       "_model_module_version": "~2.1.4",
       "_view_module_version": "~2.1.4",
       "description": "54",
       "disabled": false,
       "layout": "IPY_MODEL_b0dda74781f14d8396bfe1666098eea4",
       "value": false
      }
     },
     "99ded4ba9b8746658488e004eed215ab": {
      "model_module": "jupyter-js-widgets",
      "model_module_version": "~2.1.4",
      "model_name": "LayoutModel",
      "state": {
       "_model_module_version": "~2.1.4",
       "_view_module_version": "~2.1.4"
      }
     },
     "9b926ea80ade4a2f84311a0cca75fe34": {
      "model_module": "jupyter-js-widgets",
      "model_module_version": "~2.1.4",
      "model_name": "BoxModel",
      "state": {
       "_model_module_version": "~2.1.4",
       "_view_module_version": "~2.1.4",
       "children": [
        "IPY_MODEL_bc6a819beb2948289707514324d8b39f",
        "IPY_MODEL_85bf54f90f8244d7a97552cbbafe8e12",
        "IPY_MODEL_2e482751562b43d9ab09a0cc7eec418f",
        "IPY_MODEL_c8030e2cf5ed458184a46a582d8feb41",
        "IPY_MODEL_ee3f398053304176a341c566c14dd38d",
        "IPY_MODEL_c8f71f3926d64171a73862c800edd52c",
        "IPY_MODEL_9cc79e3c6f26424dad7afc64b54953f4",
        "IPY_MODEL_2bc096955474477684c4b2f582534cee",
        "IPY_MODEL_7589f9843e9e4cc09087fb46aaf3ece8",
        "IPY_MODEL_ad842554b2d34a408960a089f673daef",
        "IPY_MODEL_ed022b2134204f04bdd16505a5e0dacd",
        "IPY_MODEL_0199c9d38c2a4fc6a67010e213ec4445",
        "IPY_MODEL_95c7d8bffc8e4590aa857c5dbd4b37e2",
        "IPY_MODEL_770851ba770d4244a25997074f100ad3",
        "IPY_MODEL_2db15da59ffc4f909380ad02bab172df",
        "IPY_MODEL_3fa55484cbf946df8f05b221a35597a2",
        "IPY_MODEL_c6d5187a1c374be3b9c8ff548150e4ce",
        "IPY_MODEL_54f39371a09a41bdb1fc8f36dcffc7a0",
        "IPY_MODEL_f498e316b7504140a4c91f47a6f38917",
        "IPY_MODEL_e108312e7a504db48cbb0bb05e0da496"
       ],
       "layout": "IPY_MODEL_0877a59c7b974703b6aaa10b5f670147"
      }
     },
     "9bde49c1d0a340839ba66cc2d1b648bb": {
      "model_module": "jupyter-js-widgets",
      "model_module_version": "~2.1.4",
      "model_name": "OutputModel",
      "state": {
       "_dom_classes": [],
       "_model_module": "jupyter-js-widgets",
       "_model_module_version": "~2.1.4",
       "_view_module": "jupyter-js-widgets",
       "_view_module_version": "~2.1.4",
       "layout": "IPY_MODEL_cbdf0c4994574f8e95024118e4f0afff",
       "msg_throttle": 1
      }
     },
     "9cc79e3c6f26424dad7afc64b54953f4": {
      "model_module": "jupyter-js-widgets",
      "model_module_version": "~2.1.4",
      "model_name": "CheckboxModel",
      "state": {
       "_model_module_version": "~2.1.4",
       "_view_module_version": "~2.1.4",
       "description": "33",
       "disabled": false,
       "layout": "IPY_MODEL_dbe94152fee14535ac91eacbb69284d1",
       "value": false
      }
     },
     "9db1476bcc26403e8bbfb43e79873520": {
      "model_module": "jupyter-js-widgets",
      "model_module_version": "~2.1.4",
      "model_name": "LayoutModel",
      "state": {
       "_model_module_version": "~2.1.4",
       "_view_module_version": "~2.1.4"
      }
     },
     "9f48129bf8a441988d3d1c807b992b0c": {
      "model_module": "jupyter-js-widgets",
      "model_module_version": "~2.1.4",
      "model_name": "LayoutModel",
      "state": {
       "_model_module_version": "~2.1.4",
       "_view_module_version": "~2.1.4"
      }
     },
     "aab5f2153c1a48d983935681e7b0e4e5": {
      "model_module": "jupyter-js-widgets",
      "model_module_version": "~2.1.4",
      "model_name": "OutputModel",
      "state": {
       "_dom_classes": [],
       "_model_module": "jupyter-js-widgets",
       "_model_module_version": "~2.1.4",
       "_view_module": "jupyter-js-widgets",
       "_view_module_version": "~2.1.4",
       "layout": "IPY_MODEL_58dce66e91174fe3989c67b0d24958ad",
       "msg_throttle": 1
      }
     },
     "ac26963d737c425ba910b83b97ec1076": {
      "model_module": "jupyter-js-widgets",
      "model_module_version": "~2.1.4",
      "model_name": "LayoutModel",
      "state": {
       "_model_module_version": "~2.1.4",
       "_view_module_version": "~2.1.4"
      }
     },
     "acbc0eacb7354011ad9b0d8b4f15c89d": {
      "model_module": "jupyter-js-widgets",
      "model_module_version": "~2.1.4",
      "model_name": "LayoutModel",
      "state": {
       "_model_module_version": "~2.1.4",
       "_view_module_version": "~2.1.4"
      }
     },
     "ad842554b2d34a408960a089f673daef": {
      "model_module": "jupyter-js-widgets",
      "model_module_version": "~2.1.4",
      "model_name": "CheckboxModel",
      "state": {
       "_model_module_version": "~2.1.4",
       "_view_module_version": "~2.1.4",
       "description": "44",
       "disabled": false,
       "layout": "IPY_MODEL_65cc29987a484ad080744832254b841f",
       "value": false
      }
     },
     "b0dda74781f14d8396bfe1666098eea4": {
      "model_module": "jupyter-js-widgets",
      "model_module_version": "~2.1.4",
      "model_name": "LayoutModel",
      "state": {
       "_model_module_version": "~2.1.4",
       "_view_module_version": "~2.1.4"
      }
     },
     "b2e80f29183e45e291e77ab0494ec956": {
      "model_module": "jupyter-js-widgets",
      "model_module_version": "~2.1.4",
      "model_name": "VBoxModel",
      "state": {
       "_model_module_version": "~2.1.4",
       "_view_module_version": "~2.1.4",
       "children": [
        "IPY_MODEL_41033007b81a453595ef559702231a41",
        "IPY_MODEL_15d6f6328b1b4eca915482befdf2e6c3"
       ],
       "layout": "IPY_MODEL_8596582237b445139668877503d92394"
      }
     },
     "bc6a819beb2948289707514324d8b39f": {
      "model_module": "jupyter-js-widgets",
      "model_module_version": "~2.1.4",
      "model_name": "CheckboxModel",
      "state": {
       "_model_module_version": "~2.1.4",
       "_view_module_version": "~2.1.4",
       "description": "11",
       "disabled": false,
       "layout": "IPY_MODEL_117f13a4fe994dffa930d1ceec24ab1b",
       "value": false
      }
     },
     "c114eeebfc4644f0b30568c9c2358d33": {
      "model_module": "jupyter-js-widgets",
      "model_module_version": "~2.1.4",
      "model_name": "LayoutModel",
      "state": {
       "_model_module_version": "~2.1.4",
       "_view_module_version": "~2.1.4"
      }
     },
     "c18db0f65cbd46c8b39d1e77c7f932c2": {
      "model_module": "jupyter-js-widgets",
      "model_module_version": "~2.1.4",
      "model_name": "LayoutModel",
      "state": {
       "_model_module_version": "~2.1.4",
       "_view_module_version": "~2.1.4"
      }
     },
     "c6d5187a1c374be3b9c8ff548150e4ce": {
      "model_module": "jupyter-js-widgets",
      "model_module_version": "~2.1.4",
      "model_name": "CheckboxModel",
      "state": {
       "_model_module_version": "~2.1.4",
       "_view_module_version": "~2.1.4",
       "description": "7",
       "disabled": false,
       "layout": "IPY_MODEL_fda09abc833245b1b09e1d839567032c",
       "value": false
      }
     },
     "c8030e2cf5ed458184a46a582d8feb41": {
      "model_module": "jupyter-js-widgets",
      "model_module_version": "~2.1.4",
      "model_name": "CheckboxModel",
      "state": {
       "_model_module_version": "~2.1.4",
       "_view_module_version": "~2.1.4",
       "description": "23",
       "disabled": false,
       "layout": "IPY_MODEL_935f3290ff4a410e864b63d128fe1a6c",
       "value": false
      }
     },
     "c8f71f3926d64171a73862c800edd52c": {
      "model_module": "jupyter-js-widgets",
      "model_module_version": "~2.1.4",
      "model_name": "CheckboxModel",
      "state": {
       "_model_module_version": "~2.1.4",
       "_view_module_version": "~2.1.4",
       "description": "31",
       "disabled": false,
       "layout": "IPY_MODEL_d8195210135e44dda0ef1b863cad66e0",
       "value": false
      }
     },
     "cbdf0c4994574f8e95024118e4f0afff": {
      "model_module": "jupyter-js-widgets",
      "model_module_version": "~2.1.4",
      "model_name": "LayoutModel",
      "state": {
       "_model_module_version": "~2.1.4",
       "_view_module_version": "~2.1.4"
      }
     },
     "cfe0322658974c169fc815298741c2a2": {
      "model_module": "jupyter-js-widgets",
      "model_module_version": "~2.1.4",
      "model_name": "LayoutModel",
      "state": {
       "_model_module_version": "~2.1.4",
       "_view_module_version": "~2.1.4"
      }
     },
     "d4bee395feab47f79e19ede613d5f8b1": {
      "model_module": "jupyter-js-widgets",
      "model_module_version": "~2.1.4",
      "model_name": "LayoutModel",
      "state": {
       "_model_module_version": "~2.1.4",
       "_view_module_version": "~2.1.4"
      }
     },
     "d4c87f230d644d5cbf4d5de77bef36f3": {
      "model_module": "jupyter-js-widgets",
      "model_module_version": "~2.1.4",
      "model_name": "LayoutModel",
      "state": {
       "_model_module_version": "~2.1.4",
       "_view_module_version": "~2.1.4"
      }
     },
     "d535a0a508934e0899a5c9ce8715ecad": {
      "model_module": "jupyter-js-widgets",
      "model_module_version": "~2.1.4",
      "model_name": "CheckboxModel",
      "state": {
       "_model_module_version": "~2.1.4",
       "_view_module_version": "~2.1.4",
       "description": "7",
       "disabled": false,
       "layout": "IPY_MODEL_5de27185aeee4aadba0fea825ec2c202",
       "value": false
      }
     },
     "d8195210135e44dda0ef1b863cad66e0": {
      "model_module": "jupyter-js-widgets",
      "model_module_version": "~2.1.4",
      "model_name": "LayoutModel",
      "state": {
       "_model_module_version": "~2.1.4",
       "_view_module_version": "~2.1.4"
      }
     },
     "d9d298391735492bb725c3a9d049b968": {
      "model_module": "jupyter-js-widgets",
      "model_module_version": "~2.1.4",
      "model_name": "OutputModel",
      "state": {
       "_dom_classes": [],
       "_model_module": "jupyter-js-widgets",
       "_model_module_version": "~2.1.4",
       "_view_module": "jupyter-js-widgets",
       "_view_module_version": "~2.1.4",
       "layout": "IPY_MODEL_1a0aed0d47054b879a94b67496dbeaa1",
       "msg_throttle": 1
      }
     },
     "dbe94152fee14535ac91eacbb69284d1": {
      "model_module": "jupyter-js-widgets",
      "model_module_version": "~2.1.4",
      "model_name": "LayoutModel",
      "state": {
       "_model_module_version": "~2.1.4",
       "_view_module_version": "~2.1.4"
      }
     },
     "dfb3c344b7f948a785b00ed6a3f8bae1": {
      "model_module": "jupyter-js-widgets",
      "model_module_version": "~2.1.4",
      "model_name": "LayoutModel",
      "state": {
       "_model_module_version": "~2.1.4",
       "_view_module_version": "~2.1.4"
      }
     },
     "e108312e7a504db48cbb0bb05e0da496": {
      "model_module": "jupyter-js-widgets",
      "model_module_version": "~2.1.4",
      "model_name": "CheckboxModel",
      "state": {
       "_model_module_version": "~2.1.4",
       "_view_module_version": "~2.1.4",
       "description": "78",
       "disabled": false,
       "layout": "IPY_MODEL_c18db0f65cbd46c8b39d1e77c7f932c2",
       "value": false
      }
     },
     "e5a628a0977045b6bc4e498eec5e15e2": {
      "model_module": "jupyter-js-widgets",
      "model_module_version": "~2.1.4",
      "model_name": "LayoutModel",
      "state": {
       "_model_module_version": "~2.1.4",
       "_view_module_version": "~2.1.4"
      }
     },
     "ea60cb396e394521af8bf3887bbf0f38": {
      "model_module": "jupyter-js-widgets",
      "model_module_version": "~2.1.4",
      "model_name": "LayoutModel",
      "state": {
       "_model_module_version": "~2.1.4",
       "_view_module_version": "~2.1.4"
      }
     },
     "ed022b2134204f04bdd16505a5e0dacd": {
      "model_module": "jupyter-js-widgets",
      "model_module_version": "~2.1.4",
      "model_name": "CheckboxModel",
      "state": {
       "_model_module_version": "~2.1.4",
       "_view_module_version": "~2.1.4",
       "description": "5",
       "disabled": false,
       "layout": "IPY_MODEL_6584f0fa4f074b5ba1f20e8e9e363004",
       "value": false
      }
     },
     "edb1f1f86a564de99187bf6344498a22": {
      "model_module": "jupyter-js-widgets",
      "model_module_version": "~2.1.4",
      "model_name": "LayoutModel",
      "state": {
       "_model_module_version": "~2.1.4",
       "_view_module_version": "~2.1.4"
      }
     },
     "ee3f398053304176a341c566c14dd38d": {
      "model_module": "jupyter-js-widgets",
      "model_module_version": "~2.1.4",
      "model_name": "CheckboxModel",
      "state": {
       "_model_module_version": "~2.1.4",
       "_view_module_version": "~2.1.4",
       "description": "3",
       "disabled": false,
       "layout": "IPY_MODEL_33fdda135991424589d34b4e787c6e6c",
       "value": false
      }
     },
     "ee64ba4d96bd47c292dfde14af81e403": {
      "model_module": "jupyter-js-widgets",
      "model_module_version": "~2.1.4",
      "model_name": "CheckboxModel",
      "state": {
       "_model_module_version": "~2.1.4",
       "_view_module_version": "~2.1.4",
       "description": "13",
       "disabled": false,
       "layout": "IPY_MODEL_7a48968d7c2147a599d66279a398b1cb",
       "value": true
      }
     },
     "f0ff65adba8c4949ab64a8fb91e7a6b1": {
      "model_module": "jupyter-js-widgets",
      "model_module_version": "~2.1.4",
      "model_name": "CheckboxModel",
      "state": {
       "_model_module_version": "~2.1.4",
       "_view_module_version": "~2.1.4",
       "description": "35",
       "disabled": false,
       "layout": "IPY_MODEL_6748fef54bc647adb5ead82892dc9be8",
       "value": false
      }
     },
     "f250fe2cd69047d9b876a686df9208ba": {
      "model_module": "jupyter-js-widgets",
      "model_module_version": "~2.1.4",
      "model_name": "CheckboxModel",
      "state": {
       "_model_module_version": "~2.1.4",
       "_view_module_version": "~2.1.4",
       "description": "39",
       "disabled": false,
       "layout": "IPY_MODEL_c114eeebfc4644f0b30568c9c2358d33",
       "value": false
      }
     },
     "f498e316b7504140a4c91f47a6f38917": {
      "model_module": "jupyter-js-widgets",
      "model_module_version": "~2.1.4",
      "model_name": "CheckboxModel",
      "state": {
       "_model_module_version": "~2.1.4",
       "_view_module_version": "~2.1.4",
       "description": "76",
       "disabled": false,
       "layout": "IPY_MODEL_d4c87f230d644d5cbf4d5de77bef36f3",
       "value": false
      }
     },
     "f73c29dea1f64660a2bc0ab9b878abfe": {
      "model_module": "jupyter-js-widgets",
      "model_module_version": "~2.1.4",
      "model_name": "CheckboxModel",
      "state": {
       "_model_module_version": "~2.1.4",
       "_view_module_version": "~2.1.4",
       "description": "50",
       "disabled": false,
       "layout": "IPY_MODEL_00974a151c8343a09a9ddaf813e42bde",
       "value": false
      }
     },
     "fa7790e40e0545d48825293865be623a": {
      "model_module": "jupyter-js-widgets",
      "model_module_version": "~2.1.4",
      "model_name": "LayoutModel",
      "state": {
       "_model_module_version": "~2.1.4",
       "_view_module_version": "~2.1.4"
      }
     },
     "fda09abc833245b1b09e1d839567032c": {
      "model_module": "jupyter-js-widgets",
      "model_module_version": "~2.1.4",
      "model_name": "LayoutModel",
      "state": {
       "_model_module_version": "~2.1.4",
       "_view_module_version": "~2.1.4"
      }
     },
     "ff354ac66e4a47feacabede7ada285f1": {
      "model_module": "jupyter-js-widgets",
      "model_module_version": "~2.1.4",
      "model_name": "LayoutModel",
      "state": {
       "_model_module_version": "~2.1.4",
       "_view_module_version": "~2.1.4"
      }
     }
    },
    "version_major": 1,
    "version_minor": 0
   }
  }
 },
 "nbformat": 4,
 "nbformat_minor": 2
}
