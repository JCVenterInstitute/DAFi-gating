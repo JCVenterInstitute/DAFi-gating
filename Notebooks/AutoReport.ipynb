{
 "cells": [
  {
   "cell_type": "code",
   "execution_count": null,
   "metadata": {
    "code_folding": [],
    "extensions": {
     "jupyter_dashboards": {
      "version": 1,
      "views": {
       "grid_default": {
        "col": 0,
        "height": 4,
        "hidden": false,
        "row": 0,
        "width": 4
       },
       "report_default": {
        "hidden": true
       }
      }
     }
    }
   },
   "outputs": [],
   "source": [
    "#OS level tools\n",
    "import os\n",
    "import time\n",
    "import datetime\n",
    "import itertools\n",
    "from collections import defaultdict\n",
    "from glob import glob\n",
    "import psutil\n",
    "from functools import partial\n",
    "from natsort import natsorted\n",
    "import re\n",
    "\n",
    "#array and data structure\n",
    "import numpy as np\n",
    "import pandas as pd\n",
    "import seaborn as sb\n",
    "\n",
    "#Ipython display and widgets\n",
    "#import ipywidgets as widgets\n",
    "from IPython.display import Image, HTML, display\n",
    "from IPython.display import Markdown as md\n",
    "#from ipywidgets import interact_manual\n",
    "\n",
    "#holoviews and plotting\n",
    "import holoviews as hv\n",
    "import datashader as ds\n",
    "from holoviews.operation.datashader import aggregate, shade, datashade\n",
    "from bokeh.models import HoverTool\n",
    "#from holoviews.operation import decimate\n",
    "\n",
    "#dask parallelization\n",
    "import dask.dataframe as dd\n",
    "from dask import compute, delayed\n",
    "import dask.threaded\n",
    "import dask.multiprocessing\n",
    "\n",
    "from multiprocessing import Pool, cpu_count\n",
    "numOfCores=cpu_count()\n",
    "\n",
    "#tsne\n",
    "from MulticoreTSNE import MulticoreTSNE as TSNE\n",
    "tsne = TSNE(n_jobs=24)\n",
    "\n",
    "#color assignment\n",
    "cmap_all=['white','white']\n",
    "cmap_parent=['black','grey']\n",
    "cmap_pop=(['darkgreen','lightgreen'], ['darkorange','yellow'], ['purple','blueviolet'], ['darkblue','lightblue'], ['indianred','red'])\n",
    "for i in range(5):\n",
    "    cmap_pop=cmap_pop+cmap_pop\n",
    "background = '#D3D3D3'\n",
    "\n",
    "#export path assignment\n",
    "#scratch_path='/scratch/'+os.environ['USER']+'/'+os.environ['SLURM_JOBID']\n",
    "scratch_path=\".\"\n",
    "export_path=scratch_path+\"/PNG\"\n",
    "png_path=\"PNG\"\n",
    "try:\n",
    "    os.makedirs(export_path)\n",
    "except OSError as e:\n",
    "    if e.errno != os.errno.EEXIST:\n",
    "        raise   \n",
    "        \n",
    "#export = partial(export_image, export_path=export_path, background=background)"
   ]
  },
  {
   "cell_type": "code",
   "execution_count": null,
   "metadata": {
    "extensions": {
     "jupyter_dashboards": {
      "version": 1,
      "views": {
       "grid_default": {},
       "report_default": {
        "hidden": true
       }
      }
     }
    }
   },
   "outputs": [],
   "source": [
    "hv.notebook_extension('bokeh')\n",
    "display(HTML(\"<style>.container { width:100% !important; overflow-x: auto;white-space: nowrap;}</style>\"))\n",
    "hv.opts(\"RGB [toolbar=None, width=400, height=400, bgcolor='#D3D3D3', fontsize={'title':15, 'xlabel':10, 'ylabel':10, 'ticks':5}]\")"
   ]
  },
  {
   "cell_type": "code",
   "execution_count": null,
   "metadata": {},
   "outputs": [],
   "source": [
    "#%load_ext memory_profiler"
   ]
  },
  {
   "cell_type": "code",
   "execution_count": null,
   "metadata": {
    "code_folding": [
     16,
     40,
     44,
     50,
     57,
     64,
     69,
     95
    ],
    "extensions": {
     "jupyter_dashboards": {
      "version": 1,
      "views": {
       "grid_default": {
        "hidden": true
       },
       "report_default": {
        "hidden": true
       }
      }
     }
    }
   },
   "outputs": [],
   "source": [
    "def config_objects(s):\n",
    "    try:\n",
    "        with open(s) as config_file:\n",
    "            config_file.seek(0)\n",
    "            gates={}\n",
    "            for line in config_file:\n",
    "                phenoType=\"\"\n",
    "                line = line.strip()\n",
    "                gate = line.split(\"\\t\")\n",
    "                if len(gate)==12:\n",
    "                    phenoType=gate[11]\n",
    "                gates.update({\"pop\"+str(gate[0]):[int(gate[0]), int(gate[1]), int(gate[2]), int(gate[3]), int(gate[4]), int(gate[5]), int(gate[6]), int(gate[7]), int(gate[8]), int(gate[9]), int(gate[10]), phenoType]})\n",
    "            return gates\n",
    "    except:\n",
    "        raise Exception(\"Error parsing configuration file\")\n",
    "        \n",
    "def config_summary(s, h):\n",
    "    try:\n",
    "        with open(s) as config_file:\n",
    "            config_file.seek(0)\n",
    "            gates={}\n",
    "            for line in config_file:\n",
    "                phenoType=\"\"\n",
    "                line = line.strip()\n",
    "                gate = line.split(\"\\t\")\n",
    "                xmarker=str(h[int(gate[1])-1])\n",
    "                ymarker=str(h[int(gate[2])-1])\n",
    "                startx=int((float(gate[3])/200)*4096)\n",
    "                starty=int((float(gate[5])/200)*4096)\n",
    "                endx=int((float(gate[4])/200)*4096)\n",
    "                endy=int((float(gate[6])/200)*4096)\n",
    "                parent=\"pop\"+gate[7]\n",
    "                if len(gate)==12:\n",
    "                    phenoType=gate[11]\n",
    "                gates.update({\"pop\"+str(gate[0]):[int(gate[0]), parent, xmarker, ymarker, phenoType, startx, endx, starty, endy]})\n",
    "            return gates\n",
    "    except:\n",
    "        raise Exception(\"Error parsing configuration file\")\n",
    "        \n",
    "_nsre = re.compile('([0-9]+)')\n",
    "def natural_sort_key(s):\n",
    "    return [int(text) if text.isdigit() else text.lower()\n",
    "            for text in re.split(_nsre, s)]   \n",
    "\n",
    "def natural_sort(l): \n",
    "    #https://stackoverflow.com/a/4836734/846892\n",
    "    convert = lambda text: int(text) if text.isdigit() else text.lower() \n",
    "    alphanum_key = lambda key: [ convert(c) for c in re.split('([0-9]+)', key) ] \n",
    "    return sorted(l, key = alphanum_key)\n",
    "\n",
    "def label_color (pops, row):\n",
    "    eventcolor=0\n",
    "    for i, pop in enumerate(pops):\n",
    "        if row[pop]==0:\n",
    "            eventcolor=i+1\n",
    "    return eventcolor\n",
    "\n",
    "def label_color2 (pops, row):\n",
    "    eventcolor=\"base\"\n",
    "    for i, pop in enumerate(pops):\n",
    "        if row[pop]==0:\n",
    "            eventcolor=pop\n",
    "    return eventcolor\n",
    "\n",
    "def parseCohort(s):\n",
    "    cohort_file=open(s)\n",
    "    \n",
    "    return\n",
    "\n",
    "def parseDataFrame(s):\n",
    "    result_file=open(s)\n",
    "    sampleLabel=os.path.splitext(s)[0]\n",
    "    events = sum(1 for line in result_file) -1 #quickly determine number of events\n",
    "    result_file.seek(0) #rewind file to beginning\n",
    "    header = result_file.readline()\n",
    "    header = header.strip()\n",
    "    headers = header.split(\"\\t\")\n",
    "    \n",
    "    pop_offset=len(headers)\n",
    "    popList=[]\n",
    "    for i,header in enumerate(headers):\n",
    "        if header == \"pop1\":\n",
    "            pop_offset=i\n",
    "        if \"pop\" in header:\n",
    "            popList.append(header)\n",
    "    markers = headers[0:pop_offset]\n",
    "    result_file.seek(0) #rewind file to beginning\n",
    "    \n",
    "    df = pd.read_csv(s, sep='\\t')\n",
    "    dataIndex={}\n",
    "    for i,header in enumerate(headers):\n",
    "        dataIndex.update({header:i})\n",
    "    df['pop0']=0\n",
    "    return [sampleLabel,headers,markers,popList,df]\n",
    "\n",
    "def parseDAFi(s):\n",
    "    df = pd.read_csv(s, sep='\\t')\n",
    "    df['pop0']=0\n",
    "    return df\n",
    "\n",
    "def html_row(file):\n",
    "     return '<img src=\"{}\" style=\"display:inline;margin:1px\" title=\"{}\"/>'.format(export_path+\"/\"+file+\".png\",file,file)\n",
    "\n",
    "def sanitize_name(name):\n",
    "    newName=name\n",
    "    newName=newName.replace(\" \", \"\")\n",
    "    newName=newName.replace(\".fcs\", \"\")\n",
    "    newName=newName.replace(\".\", \"_\")\n",
    "    newName=newName.replace(\"-\", \"n\")\n",
    "    newName=newName.replace(\"+\", \"p\")\n",
    "    newName=newName.replace(\"(\", \"_\")\n",
    "    newName=newName.replace(\")\", \"\")\n",
    "    return newName\n",
    "\n",
    "#def html_row(file):\n",
    "#     return '<img src=\"{}?{}\" style=\"display:inline;margin:1px\" title=\"{}\"/>'.format(export_path+\"/\"+file+\".png\",time.time(),file,file)\n"
   ]
  },
  {
   "cell_type": "code",
   "execution_count": null,
   "metadata": {
    "code_folding": [
     0
    ]
   },
   "outputs": [],
   "source": [
    "def colNormalize(df):\n",
    "    result = df.copy()\n",
    "    for feature_name in df.columns:\n",
    "        max_value = df[feature_name].max()\n",
    "        min_value = 0\n",
    "        result[feature_name] = ((df[feature_name] - min_value) / (max_value - min_value))*100\n",
    "    return result.round(2)"
   ]
  },
  {
   "cell_type": "code",
   "execution_count": null,
   "metadata": {},
   "outputs": [],
   "source": [
    "display(md(\"# FlowGate Data Analysis Report\"))\n",
    "display(md(\"## Generated: \"+str(datetime.datetime.now().strftime(\"%Y-%m-%d %H:%M\"))))"
   ]
  },
  {
   "cell_type": "code",
   "execution_count": null,
   "metadata": {
    "code_folding": [
     1
    ],
    "extensions": {
     "jupyter_dashboards": {
      "version": 1,
      "views": {
       "grid_default": {
        "col": 8,
        "height": 4,
        "hidden": false,
        "row": 0,
        "width": 4
       },
       "report_default": {
        "hidden": false
       }
      }
     }
    }
   },
   "outputs": [],
   "source": [
    "titlefilename=glob('description.txt')\n",
    "if titlefilename:\n",
    "    if (os.stat(titlefilename[0]).st_size != 0):\n",
    "        titlefile=open(titlefilename[0])\n",
    "        title=titlefile.readline()\n",
    "        desc=\" \"\n",
    "        desc=titlefile.readline()\n",
    "        #desc=desc.replace(\"\\n\",\" \\n### \")\n",
    "        #print(desc)\n",
    "        dataset=\" \"\n",
    "        dataset=titlefile.readline()\n",
    "        titlefile.close()\n",
    "        display(md(\"# Analysis Title: %s\"%(title)))\n",
    "        display(md(\"## Dataset: %s\"%(dataset)))\n",
    "        display(md(\"### Description: %s\"%(desc)))\n",
    "#     else:\n",
    "#         display(md(\"# Dataset: no description given\"))\n",
    "# else:\n",
    "#     display(md(\"# Dataset: no description given\"))"
   ]
  },
  {
   "cell_type": "code",
   "execution_count": null,
   "metadata": {
    "code_folding": [
     3
    ]
   },
   "outputs": [],
   "source": [
    "%%output backend='bokeh'\n",
    "%%opts Table [width=1200]\n",
    "metadatafilename=glob('metadata.txt')\n",
    "if metadatafilename:\n",
    "    if (os.stat(metadatafilename[0]).st_size != 0):\n",
    "        metadatafile=open(metadatafilename[0])\n",
    "        try:\n",
    "            metaheader = metadatafile.readline()\n",
    "            metaheader = metaheader.strip()\n",
    "            metaheaders = metaheader.split(\"\\t\")\n",
    "            metaDf=pd.read_csv('metadata.txt', sep='\\t')\n",
    "            metaTable=hv.Table(metaDf)\n",
    "            display(md(\"## Metadata\"))\n",
    "            display(metaTable)\n",
    "        except pd.errors.EmptyDataError:\n",
    "            display(md(\"## No Metadata\"))\n",
    "            #display(md(\"## error parsing metadata\"))\n",
    "#     else:\n",
    "#         display(md(\"## No Metadata\"))\n",
    "#         #display(md(\"## metadata file empty!\"))\n",
    "# else:\n",
    "#     display(md(\"## No Metadata\"))\n",
    "#     #display(md(\"## No metadata info given\"))"
   ]
  },
  {
   "cell_type": "code",
   "execution_count": null,
   "metadata": {
    "extensions": {
     "jupyter_dashboards": {
      "version": 1,
      "views": {
       "grid_default": {},
       "report_default": {
        "hidden": true
       }
      }
     }
    }
   },
   "outputs": [],
   "source": [
    "gatedFiles=sorted(glob('Gated/*/flock*.txt'))\n",
    "gatedDelayed=[[(os.path.split(os.path.dirname(fn))[1]),delayed(parseDAFi)(fn)] for fn in gatedFiles]\n",
    "sample_labels=[sanitize_name(os.path.split(os.path.dirname(fn))[1]) for fn in gatedFiles]\n",
    "dfArray=compute(*gatedDelayed, get=dask.threaded.get)"
   ]
  },
  {
   "cell_type": "code",
   "execution_count": null,
   "metadata": {
    "code_folding": [],
    "extensions": {
     "jupyter_dashboards": {
      "version": 1,
      "views": {
       "grid_default": {},
       "report_default": {
        "hidden": true
       }
      }
     }
    }
   },
   "outputs": [],
   "source": [
    "headers=list(dfArray[0][1])\n",
    "pop_offset=len(headers)\n",
    "popList=[]\n",
    "for i,header in enumerate(headers):\n",
    "    if header == \"pop1\":\n",
    "        pop_offset=i\n",
    "    if \"pop\" in header:\n",
    "        popList.append(header)\n",
    "markers = headers[0:pop_offset]"
   ]
  },
  {
   "cell_type": "markdown",
   "metadata": {},
   "source": [
    "# Configuration"
   ]
  },
  {
   "cell_type": "code",
   "execution_count": null,
   "metadata": {
    "extensions": {
     "jupyter_dashboards": {
      "version": 1,
      "views": {
       "grid_default": {},
       "report_default": {
        "hidden": false
       }
      }
     }
    }
   },
   "outputs": [],
   "source": [
    "%%output backend='bokeh'\n",
    "%%opts Table.gates [width=1200]\n",
    "%%opts Table.summary (row_headers=False) [width=1200]\n",
    "configLabel=\"pipeline.config\"\n",
    "gates=config_objects(configLabel)\n",
    "num_gates = len(gates)\n",
    "summary=config_summary(configLabel, headers)\n",
    "num_gates = len(summary)\n",
    "\n",
    "gatesummary = [v for v in summary.values()]\n",
    "di = {summary.get(element)[0]:str(summary.get(element)[0]).zfill(2)+\"_\"+summary.get(element)[4] for i,element in enumerate(summary)}\n",
    "summaryTable=hv.Table(gatesummary,kdims=['Population','Parent','XMarker','YMarker','phenotype','startx', 'endx', 'starty', 'endy'], group='summary', label='Summary')\n",
    "\n",
    "sortedTable=summaryTable.sort('Population')\n",
    "sortedTable"
   ]
  },
  {
   "cell_type": "code",
   "execution_count": null,
   "metadata": {
    "extensions": {
     "jupyter_dashboards": {
      "version": 1,
      "views": {
       "grid_default": {
        "col": 0,
        "height": 22,
        "hidden": false,
        "row": 4,
        "width": 12
       },
       "report_default": {
        "hidden": false
       }
      }
     }
    }
   },
   "outputs": [],
   "source": [
    "%%output backend='bokeh'\n",
    "axis_popIndexDict = defaultdict(list)\n",
    "popBounds={}\n",
    "axises=[]\n",
    "composite_axis=0\n",
    "last_xmarker=\"\"\n",
    "last_ymarker=\"\"\n",
    "last_parent=0\n",
    "gatesconfig=[]\n",
    "for i in range(len(gates)):\n",
    "    pop=\"pop\"+str(i+1)\n",
    "    config=gates.get(pop)\n",
    "    xmarker=str(headers[config[1]-1])\n",
    "    ymarker=str(headers[config[2]-1])\n",
    "    startx=int((float(config[3])/200)*4096)\n",
    "    starty=int((float(config[5])/200)*4096)\n",
    "    endx=int((float(config[4])/200)*4096)\n",
    "    endy=int((float(config[6])/200)*4096)\n",
    "    parent=int(config[7])\n",
    "    ctype=int(config[8])\n",
    "    phenotype=config[11]\n",
    "    if phenotype==\"\":phenotype=pop\n",
    "    popBounds.update({pop:[xmarker, ymarker, startx,starty,endx,endy,ctype,\"pop\"+str(parent),phenotype]})\n",
    "    key=\"axis\"+str(composite_axis).zfill(2) \n",
    "    if (xmarker != last_xmarker) or (ymarker != last_ymarker) or (parent != last_parent):\n",
    "        composite_axis=composite_axis+1\n",
    "        key=\"axis\"+str(composite_axis).zfill(2)\n",
    "        axises.append([xmarker,ymarker,key,\"pop\"+str(parent)])\n",
    "    axis_popIndexDict[key].append(pop)\n",
    "    last_xmarker=xmarker\n",
    "    last_ymarker=ymarker\n",
    "    last_parent=parent\n",
    "    gatesconfig.append([pop,xmarker,ymarker,parent,ctype,phenotype])\n",
    "\n",
    "# num_axises = len(axises)\n",
    "# markerTable=hv.Table(markers,kdims=['Markers'])\n",
    "# axis_popTable=hv.Table(axis_popIndexDict, kdims=['Axis Index'], vdims=['sub populations'])\n",
    "# markerTable+axis_popTable.sort('Axis Index')"
   ]
  },
  {
   "cell_type": "markdown",
   "metadata": {
    "extensions": {
     "jupyter_dashboards": {
      "version": 1,
      "views": {
       "grid_default": {
        "col": 7,
        "height": 4,
        "hidden": false,
        "row": 30,
        "width": 4
       },
       "report_default": {
        "hidden": false
       }
      }
     }
    }
   },
   "source": [
    "# Composite 2D Dot-Plots Gated Populations"
   ]
  },
  {
   "cell_type": "code",
   "execution_count": null,
   "metadata": {
    "scrolled": true
   },
   "outputs": [],
   "source": [
    "hv.notebook_extension('matplotlib')"
   ]
  },
  {
   "cell_type": "code",
   "execution_count": null,
   "metadata": {
    "extensions": {
     "jupyter_dashboards": {
      "version": 1,
      "views": {
       "grid_default": {},
       "report_default": {
        "hidden": true
       }
      }
     }
    }
   },
   "outputs": [],
   "source": [
    "hv.opts(\"RGB [width=600, height=600, bgcolor='#D3D3D3', fontsize={'title':8, 'xlabel':15, 'ylabel':15, 'ticks':10}]\")"
   ]
  },
  {
   "cell_type": "code",
   "execution_count": null,
   "metadata": {},
   "outputs": [],
   "source": [
    "hv.opts(\"Points.cent (color='purple' marker='+' size=10)\")"
   ]
  },
  {
   "cell_type": "code",
   "execution_count": null,
   "metadata": {},
   "outputs": [],
   "source": [
    "poplist=natural_sort(di.values())"
   ]
  },
  {
   "cell_type": "code",
   "execution_count": null,
   "metadata": {},
   "outputs": [],
   "source": [
    "popBounds[\"pop0\"]=['Whole',\"Whole\", 0, 0, 0, 0, 0, 'N/A', 'Whole']"
   ]
  },
  {
   "cell_type": "code",
   "execution_count": null,
   "metadata": {
    "extensions": {
     "jupyter_dashboards": {
      "version": 1,
      "views": {
       "grid_default": {},
       "report_default": {
        "hidden": false
       }
      }
     }
    }
   },
   "outputs": [],
   "source": [
    "size=600\n",
    "popdfPlots = hv.HoloMap({(sample, poplist[j]): datashade(hv.Points(dfArray[k][1].loc[dfArray[k][1][gate[0]]==0], kdims=[gate[1], gate[2]]), width=size, height=size, x_range=(0,4096), y_range=(0,4096), dynamic=False, link_inputs=False, cmap=cmap_pop[j])\n",
    "                    for k, sample in enumerate(sample_labels) for j, gate in enumerate(gatesconfig)}, kdims=['Sample', 'Pop'])\n",
    "alldfPlots = hv.HoloMap({(sample, poplist[j]): datashade(hv.Points(dfArray[k][1], kdims=[gate[1], gate[2]]), width=size, height=size, x_range=(0,4096), y_range=(0,4096), dynamic=False, link_inputs=False, cmap=cmap_all)\n",
    "                    for k, sample in enumerate(sample_labels) for j, gate in enumerate(gatesconfig)}, kdims=['Sample', 'Pop'])\n",
    "parentdfPlots = hv.HoloMap({(sample, poplist[j]): datashade(hv.Points(dfArray[k][1].loc[(dfArray[k][1][\"pop\"+str(gate[3])]==0) & (dfArray[k][1][gate[0]]==1)], kdims=[gate[1], gate[2]]), width=size, height=size, x_range=(0,4096), y_range=(0,4096), dynamic=False, link_inputs=False, cmap=cmap_parent)\n",
    "                    for k, sample in enumerate(sample_labels) for j, gate in enumerate(gatesconfig)}, kdims=['Sample', 'Pop'])\n",
    "boundarydfPlots=hv.HoloMap({(sample, poplist[j]): (hv.Bounds((popBounds.get(gate[0])[2], popBounds.get(gate[0])[3], popBounds.get(gate[0])[4], popBounds.get(gate[0])[5])).opts(style=dict(line_color=cmap_pop[j][0],color=cmap_pop[j][0])) if gate[4]==0 else hv.Bounds((0,0,0,0)))\n",
    "                    for k, sample in enumerate(sample_labels) for j, gate in enumerate(gatesconfig)}, kdims=['Sample', 'Pop'])\n",
    "captions=hv.HoloMap({(sample, poplist[j]): (hv.Text(4096, 0, \"Parent:\"+str(popBounds.get(popBounds.get(gate[0])[7])[8])).opts(style=dict(color=\"black\"))*hv.Text(popBounds.get(gate[0])[4], popBounds.get(gate[0])[5], gate[5]+\"(\"+str(len(dfArray[k][1].loc[dfArray[k][1][gate[0]]==0]))+\")\").opts(style=dict(line_color=cmap_pop[j][0],color=cmap_pop[j][0])))\n",
    "                    for k, sample in enumerate(sample_labels) for j, gate in enumerate(gatesconfig)}, kdims=['Sample', 'Pop'])# centroiddfPlots = hv.HoloMap({(sample, j+1): hv.Points(centDict.get(sample+\"_\"+reclustermap.get(gate[0])), kdims=[gate[1], gate[2]], group=\"cent\")\n",
    "#                     for k, sample in enumerate(sample_labels) for j, gate in enumerate(gatesconfig)}, kdims=['Sample', 'Pop']) centroiddfPlots = hv.HoloMap({(sample, j+1): hv.Points(centDict.get(sample+\"_\"+reclustermap.get(gate[0])), kdims=[gate[1], gate[2]], group=\"cent\")\n",
    "#                     for k, sample in enumerate(sample_labels) for j, gate in enumerate(gatesconfig)}, kdims=['Sample', 'Pop'])\n"
   ]
  },
  {
   "cell_type": "code",
   "execution_count": null,
   "metadata": {},
   "outputs": [],
   "source": [
    "def outputSampleGates(sample):\n",
    "    newName=sample\n",
    "    filename=export_path+\"/\"+newName\n",
    "    hv.output(hv.NdLayout(combineddfPlots[newName,:]).cols(1), backend='matplotlib', size=200, fig='png', filename=filename)\n",
    "    \n",
    "    return filename\n",
    "\n",
    "def outputSampleGates2(sample, cols, size):\n",
    "    newName=sanitize_name(sample)\n",
    "    filename=export_path+\"/h_\"+newName\n",
    "    hv.output(hv.NdLayout(combineddfPlots[sample,:]).cols(cols), backend='matplotlib', size=size, fig='png', filename=filename)\n",
    "    \n",
    "    return filename\n",
    "\n",
    "def outputPopGates(pop):\n",
    "    originalPop=pop\n",
    "    pop=sanitize_name(pop)\n",
    "    \n",
    "    filename=export_path+\"/\"+pop\n",
    "    \n",
    "    length=len(combineddfPlots[:,originalPop])\n",
    "    hv.output(hv.NdLayout(combineddfPlots[:,originalPop]).cols(6), backend='matplotlib', size=200, fig='png', filename=filename)\n",
    "    \n",
    "    return filename\n",
    "\n",
    "def outputPopBokehGates(pop):\n",
    "    \n",
    "    \n",
    "    filename=export_path+\"/\"+pop.replace(\" \", \"\")\n",
    "    length=len(combineddfPlots[:,pop])\n",
    "    temp=hv.NdLayout(combineddfPlots[:,pop]).cols(length)\n",
    "    \n",
    "    return temp"
   ]
  },
  {
   "cell_type": "code",
   "execution_count": null,
   "metadata": {},
   "outputs": [],
   "source": [
    "#%%time\n",
    "combineddfPlots=alldfPlots*parentdfPlots*popdfPlots*boundarydfPlots*captions\n"
   ]
  },
  {
   "cell_type": "code",
   "execution_count": null,
   "metadata": {},
   "outputs": [],
   "source": [
    "#%%time\n",
    "scomp_pool = Pool(processes=min(8,numOfCores),maxtasksperchild=2)\n",
    "for pop in poplist:\n",
    "    scomp_pool.apply_async(outputPopGates, args=[pop])\n",
    "scomp_pool.close()\n",
    "scomp_pool.join()"
   ]
  },
  {
   "cell_type": "code",
   "execution_count": null,
   "metadata": {},
   "outputs": [],
   "source": [
    "#%%time\n",
    "scomp_pool = Pool(processes=min(8,numOfCores),maxtasksperchild=2)\n",
    "for sample in sample_labels:\n",
    "    scomp_pool.apply_async(outputSampleGates2, args=[sample,len(gates),200])\n",
    "    #scomp_pool.apply_async(outputSampleGates2, args=[sample])\n",
    "scomp_pool.close()\n",
    "scomp_pool.join()"
   ]
  },
  {
   "cell_type": "code",
   "execution_count": null,
   "metadata": {
    "code_folding": []
   },
   "outputs": [],
   "source": [
    "def composite_pop(pop):\n",
    "    pop=sanitize_name(pop)\n",
    "    pop=\"func_\"+pop\n",
    "    \n",
    "    script='''<script>{}_show=true; \n",
    "    function {}_toggle() {{\n",
    "    if ({}_show){{\n",
    "    $('.{}').hide();\n",
    "    $('#'+'{}_button').css('color','grey');\n",
    "    }} else {{\n",
    "    $('.{}').show();\n",
    "    $('#'+'{}_button').css('color','black')\n",
    "    }}\n",
    "    {}_show = !{}_show\n",
    "    }} \n",
    "    $( document ).ready({}_toggle);\n",
    "    </script>'''.format(pop, pop, pop, pop, pop, pop, pop, pop, pop, pop)\n",
    "    return script\n",
    "\n",
    "def composite_sample(sample):\n",
    "    sample=sanitize_name(sample)\n",
    "    sample=\"func_\"+sample\n",
    "    \n",
    "    script='''<script>{}_show=true; \n",
    "    function {}_toggle() {{\n",
    "    if ({}_show){{\n",
    "    $('.{}').hide();\n",
    "    $('#'+'{}_button').css('color','grey');\n",
    "    }} else {{\n",
    "    $('.{}').show();\n",
    "    $('#'+'{}_button').css('color','black')\n",
    "    }}\n",
    "    {}_show = !{}_show\n",
    "    }} \n",
    "    $( document ).ready({}_toggle);\n",
    "    </script>'''.format(sample, sample, sample, sample, sample, sample, sample, sample, sample, sample)\n",
    "    return script\n",
    "\n",
    "def button_hide(button):\n",
    "    button=sanitize_name(button)\n",
    "    button=\"func_\"+button\n",
    "    \n",
    "    script='''<script>\n",
    "    $('.{}').hide();\n",
    "    $('#'+'{}_button').css('color','grey');\n",
    "    {}_show = !{}_show\n",
    "    </script>'''.format(button, button, button)\n",
    "    return script\n",
    "\n",
    "def composite_gates():\n",
    "    pop=\"gates\"\n",
    "    \n",
    "    script='''<script>{}_show=false; \n",
    "    function {}_toggle() {{\n",
    "    if ({}_show){{\n",
    "    $('.{}').hide();\n",
    "    }} else {{\n",
    "    $('.{}').show();\n",
    "    }}\n",
    "    {}_show = !{}_show\n",
    "    }} \n",
    "    $( document ).ready({}_toggle);\n",
    "    </script>'''.format(pop, pop, pop, pop, pop, pop, pop, pop, pop, pop)\n",
    "    return script\n",
    "\n",
    "def display_sample(sample):\n",
    "    sample=sanitize_name(sample)\n",
    "    \n",
    "    script=\"<div class=\\\"\"+\"func_\"+sample+\"\\\" >\"+html_row(\"h_\"+sample)+\"</div>\"\n",
    "    return script\n",
    "\n",
    "def display_pop(pop):\n",
    "    pop=sanitize_name(pop)\n",
    "    \n",
    "    script=\"<div class=\\\"\"+\"func_\"+pop+\"\\\" >\"+html_row(pop)+\"</div>\"\n",
    "    return script\n",
    "\n",
    "def buttons_pop(pop):\n",
    "    pop=sanitize_name(pop)\n",
    "    popfunction = \"func_\"+pop\n",
    "    popButton = popfunction+\"_button\"\n",
    "    script='''<input type=\"submit\" id=\"{}\" formaction=\"javascript:{}_toggle()\" value=\"{}\">'''.format(popButton,popfunction,pop)\n",
    "    return script\n",
    "\n",
    "def buttons_sample(sample):\n",
    "    sample=sanitize_name(sample)\n",
    "    samplefunction = \"func_\"+sample\n",
    "    sampleButton = samplefunction+\"_button\"\n",
    "    script='''<input type=\"submit\" id=\"{}\" formaction=\"javascript:{}_toggle()\" value=\"{}\">'''.format(sampleButton,samplefunction,sample)\n",
    "    return script\n",
    "\n",
    "def button_gates():\n",
    "    script='''<input type=\"submit\" formaction=\"javascript:{}_toggle()\" value=\"{}\">'''.format(\"gates\",\"gates\")\n",
    "    return script"
   ]
  },
  {
   "cell_type": "code",
   "execution_count": null,
   "metadata": {
    "scrolled": true
   },
   "outputs": [],
   "source": [
    "display(md(\"## Cross-Sample Dot Plots of Cell Populations\"))\n",
    "display(md(\"### Click population ID to toggle show/hide\"))\n",
    "buttonsHtml=\"<form>\"\n",
    "for i, pop in enumerate(poplist):\n",
    "    if (i%10) != 0:\n",
    "        buttonsHtml=buttonsHtml+buttons_pop(pop)\n",
    "    else:\n",
    "        buttonsHtml=buttonsHtml+\"</form><form>\"+buttons_pop(pop)\n",
    "#buttonsHtml=buttonsHtml+\"</form>\"+\"<form>\"+button_gates()+\"</form>\"\n",
    "HTML(buttonsHtml)"
   ]
  },
  {
   "cell_type": "code",
   "execution_count": null,
   "metadata": {},
   "outputs": [],
   "source": [
    "HTML('''<script>\n",
    "zoomin=100\n",
    "function popzoom_in() {\n",
    " zoomin = zoomin+100\n",
    " $('div.pops').css('width',zoomin+'%');\n",
    " $('p.pops').text('Canvas Size: '+zoomin+'%')\n",
    "} \n",
    "$( document ).ready(popzoom_in);\n",
    "function popzoom_out() {\n",
    " zoomin = zoomin-100\n",
    " if (zoomin<100) {\n",
    "     zoomin=100\n",
    " }\n",
    " $('div.pops').css('width',zoomin+'%');\n",
    " $('p.pops').text('Canvas Size: '+zoomin+'%')\n",
    "} \n",
    "$( document ).ready(popzoom_out);\n",
    "</script>\n",
    "<form style=\"display:inline;margin:1px\" action=\"javascript:popzoom_in()\"><input type=\"submit\" value=\"Zoom in\"></form><form style=\"display:inline;margin:1px\" action=\"javascript:popzoom_out()\"><input type=\"submit\" value=\"Zoom out\"></form><p class=\"pops\">Canvas Size: 100%</p>''')"
   ]
  },
  {
   "cell_type": "code",
   "execution_count": null,
   "metadata": {
    "scrolled": false
   },
   "outputs": [],
   "source": [
    "pophtml=\"\".join(display_pop(pop) for pop in poplist)\n",
    "display(HTML('<div class=\"pops\">'+pophtml+'</div>'))"
   ]
  },
  {
   "cell_type": "code",
   "execution_count": null,
   "metadata": {},
   "outputs": [],
   "source": [
    "display(md(\"## Step by Step Sequential Gating Dot Plots\"))\n",
    "display(md(\"### Click sample ID/name to toggle show/hide\"))\n",
    "sampleButtonsHtml=\"<form>\"\n",
    "for i, sample in enumerate(sample_labels):\n",
    "    if (i%10) != 0:\n",
    "        sampleButtonsHtml=sampleButtonsHtml+buttons_sample(sample)\n",
    "    else:\n",
    "        sampleButtonsHtml=sampleButtonsHtml+\"</form><form>\"+buttons_sample(sample)\n",
    "#buttonsHtml=buttonsHtml+\"</form>\"+\"<form>\"+button_gates()+\"</form>\"\n",
    "HTML(sampleButtonsHtml)"
   ]
  },
  {
   "cell_type": "code",
   "execution_count": null,
   "metadata": {
    "scrolled": false
   },
   "outputs": [],
   "source": [
    "samplehtml=\"\".join(display_sample(sample) for i,sample in enumerate(sample_labels))\n"
   ]
  },
  {
   "cell_type": "code",
   "execution_count": null,
   "metadata": {},
   "outputs": [],
   "source": [
    "HTML('''<script>\n",
    "zoomin=100\n",
    "function gateszoom_in() {\n",
    " zoomin = zoomin+100\n",
    " $('div.gates').css('width',zoomin+'%');\n",
    " $('p.gates').text('Canvas Size: '+zoomin+'%')\n",
    "} \n",
    "$( document ).ready(gateszoom_in);\n",
    "function gateszoom_out() {\n",
    " zoomin = zoomin-100\n",
    " if (zoomin<100){\n",
    "     zoomin = 100\n",
    " }\n",
    " $('div.gates').css('width',zoomin+'%');\n",
    " $('p.gates').text('Canvas Size: '+zoomin+'%')\n",
    " \n",
    "} \n",
    "$( document ).ready(gateszoom_out);\n",
    "</script>\n",
    "<form style=\"display:inline\" action=\"javascript:gateszoom_in()\">\n",
    "<input type=\"submit\" value=\"Zoom in\"></form>\n",
    "<form style=\"display:inline\" action=\"javascript:gateszoom_out()\">\n",
    "<input type=\"submit\" value=\"Zoom out\"></form>\n",
    "<p class=\"gates\">Canvas Size: 100%</p>''')\n",
    "\n",
    "# HTML('''<script>\n",
    "# zoomin=100\n",
    "# function zoom_in() {\n",
    "#  $('div.gates').css('width',zoomin+'%');\n",
    "#  $('p.gates').text(zoomin+'%')\n",
    "#  zoomin = zoomin+100\n",
    "#  if (zoomin>800) {zoomin = 100}\n",
    "# } \n",
    "# $( document ).ready(zoom_in);\n",
    "# </script>\n",
    "# <form action=\"javascript:zoom_in()\"><input type=\"submit\" value=\"Zoom cycle\"></form><p class=\"gates\">100%</p>''')"
   ]
  },
  {
   "cell_type": "code",
   "execution_count": null,
   "metadata": {
    "scrolled": false
   },
   "outputs": [],
   "source": [
    "display(HTML('<div class=\"gates\">'+samplehtml+'</div>'))"
   ]
  },
  {
   "cell_type": "code",
   "execution_count": null,
   "metadata": {},
   "outputs": [],
   "source": [
    "# display(md(\"## Complete Gating Dot Plots\"))\n",
    "# display(md(\"### Click gates button to toggle show/hide\"))\n",
    "# buttonsHtml=\"<form>\"+button_gates()+\"</form>\"\n",
    "# HTML(buttonsHtml)"
   ]
  },
  {
   "cell_type": "code",
   "execution_count": null,
   "metadata": {},
   "outputs": [],
   "source": [
    "# #%%time\n",
    "# scomp_pool = Pool(processes=min(8,numOfCores),maxtasksperchild=2)\n",
    "# for sample in sample_labels:\n",
    "#     scomp_pool.apply_async(outputSampleGates, args=[sample])\n",
    "#     #scomp_pool.apply_async(outputSampleGates2, args=[sample])\n",
    "# scomp_pool.close()\n",
    "# scomp_pool.join()"
   ]
  },
  {
   "cell_type": "code",
   "execution_count": null,
   "metadata": {
    "extensions": {
     "jupyter_dashboards": {
      "version": 1,
      "views": {
       "grid_default": {},
       "report_default": {
        "hidden": false
       }
      }
     }
    },
    "scrolled": false
   },
   "outputs": [],
   "source": [
    "# gateshtml=\"\".join(html_row(sample) for sample in natsorted(sample_labels))\n",
    "# gateshtml=\"<div class=\\\"gates\\\">\"+gateshtml+\"</div>\"\n",
    "# display(HTML(gateshtml))"
   ]
  },
  {
   "cell_type": "code",
   "execution_count": null,
   "metadata": {},
   "outputs": [],
   "source": [
    "#HTML(\"\".join(composite_pop(pop) for pop in natsorted(poplist))+\"\".join(composite_sample(sample) for i, sample in enumerate(sample_labels))+composite_gates())\n",
    "HTML(\"\".join(composite_pop(pop) for pop in natsorted(poplist))+\"\".join(composite_sample(sample) for i, sample in enumerate(sample_labels)))"
   ]
  },
  {
   "cell_type": "markdown",
   "metadata": {},
   "source": [
    "# Batch Population Statistics"
   ]
  },
  {
   "cell_type": "markdown",
   "metadata": {},
   "source": [
    "### Population Percentage and Events Tables"
   ]
  },
  {
   "cell_type": "code",
   "execution_count": null,
   "metadata": {},
   "outputs": [],
   "source": [
    "batchpercent_df = pd.read_csv('Gated/Batch_percentages.txt', sep='\\t', index_col=0)\n",
    "batchpercent_df=batchpercent_df.rename(di).round(2)"
   ]
  },
  {
   "cell_type": "code",
   "execution_count": null,
   "metadata": {
    "scrolled": true
   },
   "outputs": [],
   "source": [
    "batchevents_df = pd.read_csv('Gated/Batch_events.txt', sep='\\t', index_col=0)\n",
    "batchevents_df=batchevents_df.rename(di)"
   ]
  },
  {
   "cell_type": "code",
   "execution_count": null,
   "metadata": {},
   "outputs": [],
   "source": [
    "parentslist=pd.DataFrame(gatesconfig, index=batchpercent_df.index)[3].tolist()\n",
    "percent_parent_df=batchpercent_df.copy()\n",
    "percent_parent_df.insert(0,\"Parent\",parentslist)"
   ]
  },
  {
   "cell_type": "code",
   "execution_count": null,
   "metadata": {
    "scrolled": false
   },
   "outputs": [],
   "source": [
    "batchnorm_df = colNormalize(batchevents_df)\n",
    "display(md(\"#### Population Percentage (by Parent's size) table\"))\n",
    "with pd.option_context('display.max_columns', None):\n",
    "    display(percent_parent_df)\n",
    "    \n",
    "display(md(\"#### Events table\"))\n",
    "with pd.option_context('display.max_columns', None):\n",
    "    display(batchevents_df)\n",
    "\n",
    "# display(md(\"#### Population Percentage (by Singlets size) table\"))\n",
    "# with pd.option_context('display.max_columns', None):\n",
    "#     display(batchnorm_df)"
   ]
  },
  {
   "cell_type": "code",
   "execution_count": null,
   "metadata": {},
   "outputs": [],
   "source": [
    "percentdf=batchpercent_df.transpose()\n",
    "#percentdf=batchpercent_df.reindex(sorted(batchpercent_df.columns), axis=1).transpose()\n",
    "#percentdf=batchnorm_df.transpose()"
   ]
  },
  {
   "cell_type": "markdown",
   "metadata": {},
   "source": [
    "### Combined Percent/Events Dataframe"
   ]
  },
  {
   "cell_type": "code",
   "execution_count": null,
   "metadata": {},
   "outputs": [],
   "source": [
    "%%output backend=\"bokeh\"\n",
    "%%opts Table [width=1000]\n",
    "\n",
    "p_df=pd.DataFrame(batchpercent_df.unstack())\n",
    "p_df.columns=['Percent']\n",
    "\n",
    "e_df=pd.DataFrame(batchevents_df.unstack())\n",
    "e_df.columns=['Events']\n",
    "\n",
    "c_df=pd.concat([p_df,e_df],axis=1, join='outer').reset_index()\n",
    "c_df.columns=['Sample','Population','Percent','Events']\n",
    "c_df=c_df.replace({\"Population\":di})"
   ]
  },
  {
   "cell_type": "markdown",
   "metadata": {},
   "source": [
    "### Box Plots"
   ]
  },
  {
   "cell_type": "code",
   "execution_count": null,
   "metadata": {},
   "outputs": [],
   "source": [
    "%%output backend=\"bokeh\" size=200\n",
    "%%opts BoxWhisker [xrotation=45]\n",
    "percentBoxPlot=hv.BoxWhisker(c_df, kdims=['Population'],vdims='Percent').relabel('Population Percent Box Plot')\n",
    "eventsBoxPlot=hv.BoxWhisker(c_df, kdims=['Population'],vdims='Events').relabel('Population Events Box Plot')\n",
    "percentBoxPlot+eventsBoxPlot"
   ]
  },
  {
   "cell_type": "code",
   "execution_count": null,
   "metadata": {},
   "outputs": [],
   "source": [
    "# %%output backend=\"bokeh\"\n",
    "# %%opts Scatter [width=1200 height=600 scaling_method='width' scaling_factor=0.1 size_index=2 show_grid=True tools=['hover']] \n",
    "# %%opts Scatter (color=Cycle('Category20') alpha=0.8 line_color='k')\n",
    "# %%opts NdOverlay [legend_position='bottom' show_frame=False]\n",
    "# cdf_table=hv.Table(c_df,kdims=['Sample','Population'],vdims=['Percent','Events'])\n",
    "# cdf_scatter = cdf_table.to.scatter('Population', ['Percent','Events'])\n",
    "# cdf_plot=cdf_scatter.overlay('Sample').relabel(\"Cross Sample Population Percent Comparison with Events Scaling\")\n",
    "# (percentBoxPlot*cdf_plot).relabel(\"All-sample Population Percentage Boxplot with Relative Events Scaling\")\n",
    "# bdf_scatter.overlay('Sample')"
   ]
  },
  {
   "cell_type": "markdown",
   "metadata": {},
   "source": [
    "## MFI"
   ]
  },
  {
   "cell_type": "code",
   "execution_count": null,
   "metadata": {},
   "outputs": [],
   "source": [
    "def buildMFIDataFrame(dfArray, markerList, gatesummary):\n",
    "    mainList=[]\n",
    "    columnNames=[]\n",
    "    sampleList=[]\n",
    "    for gate in gatesummary:\n",
    "        for marker in markerList:\n",
    "            columnNames.append(gate[4]+\" [\"+marker+\"]\")\n",
    "    for sample in dfArray:\n",
    "        tempList=[]\n",
    "        currentDf=sample[1]\n",
    "        sampleList.append(sample[0])\n",
    "        for gate in gatesummary:\n",
    "            for marker in markerList:\n",
    "                tempList.append((currentDf.loc[currentDf[\"pop\"+str(gate[0])]==0])[marker].mean())\n",
    "        mainList.append(tempList)\n",
    "    \n",
    "            \n",
    "    MFIdf=pd.DataFrame(mainList, columns=columnNames)\n",
    "    MFIdf.index=sampleList\n",
    "    return MFIdf.transpose()\n",
    "\n",
    "MFI=buildMFIDataFrame(dfArray, markers, gatesummary)\n",
    "with pd.option_context('display.max_columns', None, 'display.max_rows', None):\n",
    "    display(MFI)"
   ]
  },
  {
   "cell_type": "markdown",
   "metadata": {},
   "source": [
    "# Identification of Potential Outlier Samples by tSNE Visualization of Their Cell Population Percentages"
   ]
  },
  {
   "cell_type": "code",
   "execution_count": null,
   "metadata": {},
   "outputs": [],
   "source": [
    "tsne_data_array=percentdf.values.astype(np.float64)"
   ]
  },
  {
   "cell_type": "code",
   "execution_count": null,
   "metadata": {},
   "outputs": [],
   "source": [
    "data_tsne = tsne.fit_transform(np.copy(tsne_data_array))\n",
    "dfn=pd.DataFrame(data_tsne, columns=['tsne-x','tsne-y'], index=percentdf.index).round(4)\n",
    "results=pd.concat([percentdf,dfn],axis=1)\n",
    "results.insert(0,\"file\",percentdf.index)\n",
    "colnames=list(results)[0:-2]\n",
    "# with pd.option_context('display.max_columns', None, 'display.max_rows', 20):\n",
    "#     display(results)"
   ]
  },
  {
   "cell_type": "code",
   "execution_count": null,
   "metadata": {},
   "outputs": [],
   "source": [
    "from bokeh.models import HoverTool\n",
    "hover = HoverTool(tooltips=\"\"\"\n",
    "    <div>\n",
    "        <div>\n",
    "            <rotate style=\"font-size: 17px; font-weight: bold;\">@file</rotate>\n",
    "            <rotate style=\"font-size: 15px; color: #966;\">[$index]</rotate>\n",
    "        </div>\n",
    "        <div>\n",
    "            <img\n",
    "                src=\"./PNG/@file.png\" height=\"300\" width=\"100\"\n",
    "                style=\"float: left; margin: 0px 0px 0px 0px;\"\n",
    "                border=\"2\"\n",
    "            ></img>\n",
    "        </div>\n",
    "         \n",
    "    </div>\n",
    "    \"\"\"\n",
    ")"
   ]
  },
  {
   "cell_type": "code",
   "execution_count": null,
   "metadata": {},
   "outputs": [],
   "source": [
    "from bokeh.models.widgets import DataTable, TableColumn, HTMLTemplateFormatter\n",
    "template=\"\"\"\n",
    "<div style=\"background:<%= \n",
    "    (function colorfromint(){\n",
    "        if(value >= 95){\n",
    "            return(\"#200000\")}\n",
    "        else if(value >= 80){\n",
    "            return(\"#600000\")}\n",
    "        else if(value >= 70){\n",
    "            return(\"#800000\")}\n",
    "        else if(value >= 60){\n",
    "            return(\"#A00000\")}\n",
    "        else if(value >= 50){\n",
    "            return(\"#FF0000\")}\n",
    "        else if(value >= 40){\n",
    "            return(\"#CC3333\")}\n",
    "        else if(value >= 30){\n",
    "            return(\"#FF9966\")}\n",
    "        else if(value >= 15){\n",
    "            return(\"#FFCC99\")}\n",
    "        else if(value >= 3){\n",
    "            return(\"#FFFFCC\")}\n",
    "        \n",
    "        }()) %>; \n",
    "    color:<%= \n",
    "    (function colorfromint(){\n",
    "        if(value >= 30){\n",
    "            return(\"white\")}\n",
    "        else{return(\"black\")}\n",
    "        }()) %>\"> \n",
    "<%= value %></div>\n",
    "\"\"\"\n",
    "formater =  HTMLTemplateFormatter(template=template)\n",
    "\n",
    "def apply_format(plot, element):\n",
    "    construct=plot.handles['plot']\n",
    "    for i, column in enumerate(construct.columns[1:-2]):\n",
    "        column.formatter=formater\n",
    "    "
   ]
  },
  {
   "cell_type": "code",
   "execution_count": null,
   "metadata": {
    "scrolled": false
   },
   "outputs": [],
   "source": [
    "%%output backend='bokeh'\n",
    "%%opts Scatter.tSNE (size=5 nonselection_color='grey' cmap='Reds') [bgcolor='#D3D3D3' color_index=2 width=500 height=500 tools=['hover','box_select','poly_select','reset']] \n",
    "%%opts Layout [shared_datasource=True]\n",
    "%%opts Table.tSNE (row_headers=False) [width=1600 height=500]\n",
    "labels=[kd for i, kd in enumerate(colnames[4:len(colnames)])]\n",
    "holomap = hv.HoloMap({(kd): hv.Scatter(results, kdims=['tsne-x','tsne-y'],vdims=[kd, 'file'], group=\"tSNE\") for i, kd in enumerate(colnames[4:len(colnames)])}, kdims='Population')\n",
    "tSNEtable = hv.Table(results, group=\"tSNE\")\n",
    "display(md(\"####      Select one or multiple rows/samples to view them on tSNE map\"))\n",
    "hv.Layout(tSNEtable.opts(plot=dict(finalize_hooks=[apply_format]))+holomap.layout().cols(3)).cols(1)"
   ]
  },
  {
   "cell_type": "code",
   "execution_count": null,
   "metadata": {
    "extensions": {
     "jupyter_dashboards": {
      "version": 1,
      "views": {
       "grid_default": {},
       "report_default": {
        "hidden": true
       }
      }
     }
    }
   },
   "outputs": [],
   "source": [
    "HTML('''<script>\n",
    "code_show=true; \n",
    "function code_toggle() {\n",
    " if (code_show){\n",
    " $('div.input').hide();\n",
    " } else {\n",
    " $('div.input').show();\n",
    " }\n",
    " code_show = !code_show\n",
    "} \n",
    "$( document ).ready(code_toggle);\n",
    "</script>\n",
    "<form action=\"javascript:code_toggle()\"><input type=\"submit\" value=\"Click here to toggle on/off the raw code.\"></form>''')"
   ]
  }
 ],
 "metadata": {
  "extensions": {
   "jupyter_dashboards": {
    "activeView": "report_default",
    "version": 1,
    "views": {
     "grid_default": {
      "cellMargin": 10,
      "defaultCellHeight": 20,
      "maxColumns": 12,
      "name": "grid",
      "type": "grid"
     },
     "report_default": {
      "name": "report",
      "type": "report"
     }
    }
   }
  },
  "kernelspec": {
   "display_name": "Python 3",
   "language": "python",
   "name": "python3"
  },
  "language_info": {
   "codemirror_mode": {
    "name": "ipython",
    "version": 3
   },
   "file_extension": ".py",
   "mimetype": "text/x-python",
   "name": "python",
   "nbconvert_exporter": "python",
   "pygments_lexer": "ipython3",
   "version": "3.6.6"
  }
 },
 "nbformat": 4,
 "nbformat_minor": 2
}
