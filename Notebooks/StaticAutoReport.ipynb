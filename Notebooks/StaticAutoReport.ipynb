{
 "cells": [
  {
   "cell_type": "code",
   "execution_count": null,
   "metadata": {
    "extensions": {
     "jupyter_dashboards": {
      "version": 1,
      "views": {
       "grid_default": {
        "col": 0,
        "height": 4,
        "hidden": false,
        "row": 0,
        "width": 4
       },
       "report_default": {
        "hidden": true
       }
      }
     }
    }
   },
   "outputs": [],
   "source": [
    "#OS level tools\n",
    "import os\n",
    "import time\n",
    "import itertools\n",
    "from collections import defaultdict\n",
    "from glob import glob\n",
    "import psutil\n",
    "from functools import partial\n",
    "import re\n",
    "\n",
    "#array and data structure\n",
    "import numpy as np\n",
    "import pandas as pd\n",
    "import seaborn as sb\n",
    "\n",
    "#Ipython display and widgets\n",
    "#import ipywidgets as widgets\n",
    "from IPython.display import Image, HTML, display\n",
    "#from ipywidgets import interact_manual\n",
    "\n",
    "#holoviews and plotting\n",
    "import holoviews as hv\n",
    "import datashader as ds\n",
    "from holoviews.operation.datashader import aggregate, shade, datashade\n",
    "#from holoviews.operation import decimate\n",
    "\n",
    "#dask parallelization\n",
    "import dask.dataframe as dd\n",
    "from dask import compute, delayed\n",
    "import dask.threaded\n",
    "import dask.multiprocessing\n",
    "\n",
    "#color assignment\n",
    "cmap_all=['white','white']\n",
    "cmap_parent=['black','grey']\n",
    "cmap_pop=(['darkgreen','lightgreen'], ['darkorange','yellow'], ['purple','blueviolet'], ['darkblue','lightblue'], ['indianred','red'], ['indianred','red'], ['indianred','red'], ['indianred','red'])\n",
    "background = '#D3D3D3'\n",
    "\n",
    "#export path assignment\n",
    "#temp_path='/scratch/'+os.environ['USER']+'/'+os.environ['SLURM_JOBID']\n",
    "export_path=\"PNG\"\n",
    "#export = partial(export_image, export_path=export_path, background=background)\n",
    "\n",
    "hv.notebook_extension('bokeh')\n",
    "display(HTML(\"<style>.container { width:100% !important; overflow-x: auto;white-space: nowrap;}</style>\"))\n",
    "hv.opts(\"RGB [toolbar=None, width=400, height=400, bgcolor='#D3D3D3', fontsize={'title':8, 'xlabel':8, 'ylabel':8, 'ticks':3}]\")\n"
   ]
  },
  {
   "cell_type": "code",
   "execution_count": null,
   "metadata": {
    "collapsed": true,
    "extensions": {
     "jupyter_dashboards": {
      "version": 1,
      "views": {
       "grid_default": {},
       "report_default": {
        "hidden": true
       }
      }
     }
    }
   },
   "outputs": [],
   "source": [
    "hv.opts(\"RGB [toolbar=None, width=400, height=400, bgcolor='#D3D3D3', fontsize={'title':15, 'xlabel':10, 'ylabel':10, 'ticks':5}]\")"
   ]
  },
  {
   "cell_type": "code",
   "execution_count": null,
   "metadata": {
    "collapsed": true,
    "extensions": {
     "jupyter_dashboards": {
      "version": 1,
      "views": {
       "grid_default": {
        "hidden": true
       },
       "report_default": {
        "hidden": true
       }
      }
     }
    }
   },
   "outputs": [],
   "source": [
    "def config_objects(s):\n",
    "    try:\n",
    "        with open(s) as config_file:\n",
    "            config_file.seek(0)\n",
    "            gates={}\n",
    "            for line in config_file:\n",
    "                phenoType=\"\"\n",
    "                line = line.strip()\n",
    "                gate = line.split(\"\\t\")\n",
    "                if len(gate)==12:\n",
    "                    phenoType=gate[11]\n",
    "                gates.update({\"pop\"+str(gate[0]):[int(gate[0]), int(gate[1]), int(gate[2]), int(gate[3]), int(gate[4]), int(gate[5]), int(gate[6]), int(gate[7]), int(gate[8]), int(gate[9]), int(gate[10]), phenoType]})\n",
    "            return gates\n",
    "    except:\n",
    "        raise Exception(\"Error parsing configuration file\")\n",
    "        \n",
    "def config_summary(s, h):\n",
    "    try:\n",
    "        with open(s) as config_file:\n",
    "            config_file.seek(0)\n",
    "            gates={}\n",
    "            for line in config_file:\n",
    "                phenoType=\"\"\n",
    "                line = line.strip()\n",
    "                gate = line.split(\"\\t\")\n",
    "                xmarker=str(h[int(gate[1])-1])\n",
    "                ymarker=str(h[int(gate[2])-1])\n",
    "                startx=int((float(gate[3])/200)*4096)\n",
    "                starty=int((float(gate[5])/200)*4096)\n",
    "                endx=int((float(gate[4])/200)*4096)\n",
    "                endy=int((float(gate[6])/200)*4096)\n",
    "                parent=\"pop\"+gate[7]\n",
    "                if len(gate)==12:\n",
    "                    phenoType=gate[11]\n",
    "                gates.update({\"pop\"+str(gate[0]):[int(gate[0]), parent, xmarker, ymarker, phenoType, startx, endx, starty, endy]})\n",
    "            return gates\n",
    "    except:\n",
    "        raise Exception(\"Error parsing configuration file\")\n",
    "        \n",
    "_nsre = re.compile('([0-9]+)')\n",
    "def natural_sort_key(s):\n",
    "    return [int(text) if text.isdigit() else text.lower()\n",
    "            for text in re.split(_nsre, s)]   \n",
    "\n",
    "def natural_sort(l): \n",
    "    #https://stackoverflow.com/a/4836734/846892\n",
    "    convert = lambda text: int(text) if text.isdigit() else text.lower() \n",
    "    alphanum_key = lambda key: [ convert(c) for c in re.split('([0-9]+)', key) ] \n",
    "    return sorted(l, key = alphanum_key)\n",
    "\n",
    "def label_color (pops, row):\n",
    "    eventcolor=0\n",
    "    for i, pop in enumerate(pops):\n",
    "        if row[pop]==0:\n",
    "            eventcolor=i+1\n",
    "    return eventcolor\n",
    "\n",
    "def label_color2 (pops, row):\n",
    "    eventcolor=\"base\"\n",
    "    for i, pop in enumerate(pops):\n",
    "        if row[pop]==0:\n",
    "            eventcolor=pop\n",
    "    return eventcolor\n",
    "\n",
    "def parseCohort(s):\n",
    "    cohort_file=open(s)\n",
    "    \n",
    "    return\n",
    "\n",
    "def parseDataFrame(s):\n",
    "    result_file=open(s)\n",
    "    sampleLabel=os.path.splitext(s)[0]\n",
    "    events = sum(1 for line in result_file) -1 #quickly determine number of events\n",
    "    result_file.seek(0) #rewind file to beginning\n",
    "    header = result_file.readline()\n",
    "    header = header.strip()\n",
    "    headers = header.split(\"\\t\")\n",
    "    \n",
    "    pop_offset=len(headers)\n",
    "    popList=[]\n",
    "    for i,header in enumerate(headers):\n",
    "        if header == \"pop1\":\n",
    "            pop_offset=i\n",
    "        if \"pop\" in header:\n",
    "            popList.append(header)\n",
    "    markers = headers[0:pop_offset]\n",
    "    result_file.seek(0) #rewind file to beginning\n",
    "    \n",
    "    df = pd.read_csv(s, sep='\\t')\n",
    "    dataIndex={}\n",
    "    for i,header in enumerate(headers):\n",
    "        dataIndex.update({header:i})\n",
    "    df['pop0']=0\n",
    "    return [sampleLabel,headers,markers,popList,df]\n",
    "\n",
    "def parseDAFi(s):\n",
    "    df = pd.read_csv(s, sep='\\t')\n",
    "    df['pop0']=0\n",
    "    return df\n",
    "\n",
    "def html_row(file):\n",
    "     return '<img src=\"{}\" style=\"display:inline;margin:1px\" title=\"{}\"/>'.format(export_path+\"/\"+file+\".png\",file,file)\n",
    "\n",
    "#def html_row(file):\n",
    "#     return '<img src=\"{}?{}\" style=\"display:inline;margin:1px\" title=\"{}\"/>'.format(export_path+\"/\"+file+\".png\",time.time(),file,file)\n"
   ]
  },
  {
   "cell_type": "markdown",
   "metadata": {
    "extensions": {
     "jupyter_dashboards": {
      "version": 1,
      "views": {
       "grid_default": {
        "col": 8,
        "height": 4,
        "hidden": false,
        "row": 0,
        "width": 4
       },
       "report_default": {
        "hidden": false
       }
      }
     }
    }
   },
   "source": [
    "# Dataset: "
   ]
  },
  {
   "cell_type": "code",
   "execution_count": null,
   "metadata": {
    "collapsed": true,
    "extensions": {
     "jupyter_dashboards": {
      "version": 1,
      "views": {
       "grid_default": {},
       "report_default": {
        "hidden": true
       }
      }
     }
    }
   },
   "outputs": [],
   "source": [
    "gatedFiles=sorted(glob('Gated/*/flock*.txt'))\n",
    "gatedDelayed=[[(os.path.split(os.path.dirname(fn))[1]),delayed(parseDAFi)(fn)] for fn in gatedFiles]\n",
    "sample_labels=[os.path.split(os.path.dirname(fn))[1] for fn in gatedFiles]\n",
    "dfArray=compute(*gatedDelayed, get=dask.threaded.get)"
   ]
  },
  {
   "cell_type": "code",
   "execution_count": null,
   "metadata": {
    "collapsed": true,
    "extensions": {
     "jupyter_dashboards": {
      "version": 1,
      "views": {
       "grid_default": {},
       "report_default": {
        "hidden": true
       }
      }
     }
    }
   },
   "outputs": [],
   "source": [
    "headers=list(dfArray[0][1])\n",
    "pop_offset=len(headers)\n",
    "popList=[]\n",
    "for i,header in enumerate(headers):\n",
    "    if header == \"pop1\":\n",
    "        pop_offset=i\n",
    "    if \"pop\" in header:\n",
    "        popList.append(header)\n",
    "markers = headers[0:pop_offset]"
   ]
  },
  {
   "cell_type": "markdown",
   "metadata": {},
   "source": [
    "# Configuration"
   ]
  },
  {
   "cell_type": "code",
   "execution_count": null,
   "metadata": {
    "extensions": {
     "jupyter_dashboards": {
      "version": 1,
      "views": {
       "grid_default": {},
       "report_default": {
        "hidden": false
       }
      }
     }
    }
   },
   "outputs": [],
   "source": [
    "%%output backend='bokeh'\n",
    "%%opts Table.gates [width=1200]\n",
    "%%opts Table.summary [width=1200]\n",
    "configLabel=\"pipeline.config\"\n",
    "gates=config_objects(configLabel)\n",
    "num_gates = len(gates)\n",
    "summary=config_summary(configLabel, headers)\n",
    "num_gates = len(summary)\n",
    "\n",
    "gatesummary = [v for v in summary.values()]\n",
    "summaryTable=hv.Table(gatesummary,kdims=['Population','Parent','XMarker','YMarker','phenotype','startx', 'endx', 'starty', 'endy'], group='summary', label='Summary')\n",
    "\n",
    "sortedTable=summaryTable.sort('Population')\n",
    "sortedTable"
   ]
  },
  {
   "cell_type": "markdown",
   "metadata": {
    "extensions": {
     "jupyter_dashboards": {
      "version": 1,
      "views": {
       "grid_default": {
        "col": 7,
        "height": 4,
        "hidden": false,
        "row": 26,
        "width": 4
       },
       "report_default": {
        "hidden": false
       }
      }
     }
    }
   },
   "source": [
    "# Marker and Axis Tables"
   ]
  },
  {
   "cell_type": "code",
   "execution_count": null,
   "metadata": {
    "extensions": {
     "jupyter_dashboards": {
      "version": 1,
      "views": {
       "grid_default": {
        "col": 0,
        "height": 22,
        "hidden": false,
        "row": 4,
        "width": 12
       },
       "report_default": {
        "hidden": false
       }
      }
     }
    }
   },
   "outputs": [],
   "source": [
    "%%output backend='bokeh'\n",
    "axis_popIndexDict = defaultdict(list)\n",
    "popBounds={}\n",
    "axises=[]\n",
    "composite_axis=0\n",
    "last_xmarker=\"\"\n",
    "last_ymarker=\"\"\n",
    "last_parent=0\n",
    "gatesconfig=[]\n",
    "for i in range(len(gates)):\n",
    "    pop=\"pop\"+str(i+1)\n",
    "    config=gates.get(pop)\n",
    "    xmarker=str(headers[config[1]-1])\n",
    "    ymarker=str(headers[config[2]-1])\n",
    "    startx=int((float(config[3])/200)*4096)\n",
    "    starty=int((float(config[5])/200)*4096)\n",
    "    endx=int((float(config[4])/200)*4096)\n",
    "    endy=int((float(config[6])/200)*4096)\n",
    "    parent=int(config[7])\n",
    "    ctype=int(config[8])\n",
    "    popBounds.update({pop:[xmarker, ymarker, startx,starty,endx,endy,ctype,\"pop\"+str(parent)]})\n",
    "    key=\"axis\"+str(composite_axis).zfill(2) \n",
    "    if (xmarker != last_xmarker) or (ymarker != last_ymarker) or (parent != last_parent):\n",
    "        composite_axis=composite_axis+1\n",
    "        key=\"axis\"+str(composite_axis).zfill(2)\n",
    "        axises.append([xmarker,ymarker,key,\"pop\"+str(parent)])\n",
    "    axis_popIndexDict[key].append(pop)\n",
    "    last_xmarker=xmarker\n",
    "    last_ymarker=ymarker\n",
    "    last_parent=parent\n",
    "    gatesconfig.append([pop,xmarker,ymarker,parent])\n",
    "\n",
    "num_axises = len(axises)\n",
    "markerTable=hv.Table(markers,kdims=['Marker'])\n",
    "axis_popTable=hv.Table(axis_popIndexDict, kdims=['Axis Index'], vdims=['sub populations'])\n",
    "markerTable+axis_popTable.sort('Axis Index')"
   ]
  },
  {
   "cell_type": "markdown",
   "metadata": {},
   "source": [
    "# Batch Population Statistics"
   ]
  },
  {
   "cell_type": "code",
   "execution_count": null,
   "metadata": {},
   "outputs": [],
   "source": [
    "hv.notebook_extension('matplotlib')"
   ]
  },
  {
   "cell_type": "markdown",
   "metadata": {},
   "source": [
    "### Population Percentage and Events Tables"
   ]
  },
  {
   "cell_type": "code",
   "execution_count": null,
   "metadata": {},
   "outputs": [],
   "source": [
    "%%output backend='bokeh'\n",
    "%%opts Table.gates [width=1200]\n",
    "%%opts Table.summary [width=2000]\n",
    "\n",
    "batchpercent_df = pd.read_csv('Gated/Batch_percentages.txt', sep='\\t', index_col=0)\n",
    "batchevents_df = pd.read_csv('Gated/Batch_events.txt', sep='\\t', index_col=0)\n",
    "hv.Layout(hv.Table(batchpercent_df,kdims=sample_labels, group='summary', label='Summary')+hv.Table(batchevents_df,kdims=sample_labels, group='summary', label='Summary')).cols(1)"
   ]
  },
  {
   "cell_type": "markdown",
   "metadata": {},
   "source": [
    "### Combined Percent/Events Dataframe"
   ]
  },
  {
   "cell_type": "code",
   "execution_count": null,
   "metadata": {},
   "outputs": [],
   "source": [
    "%%output backend=\"bokeh\"\n",
    "%%opts Table [width=1000]\n",
    "\n",
    "p_df=pd.DataFrame(batchpercent_df.unstack())\n",
    "p_df.columns=['Percent']\n",
    "\n",
    "e_df=pd.DataFrame(batchevents_df.unstack())\n",
    "e_df.columns=['Events']\n",
    "\n",
    "c_df=pd.concat([p_df,e_df],axis=1, join='outer').reset_index()\n",
    "c_df.columns=['Sample','Population','Percent','Events']\n",
    "hv.Table(c_df, label=\"Test\")"
   ]
  },
  {
   "cell_type": "markdown",
   "metadata": {},
   "source": [
    "### Box Plots"
   ]
  },
  {
   "cell_type": "code",
   "execution_count": null,
   "metadata": {},
   "outputs": [],
   "source": [
    "%%output backend=\"bokeh\" size=200\n",
    "percentBoxPlot=hv.BoxWhisker(c_df, kdims=['Population'],vdims='Percent').relabel('Population Percent Box Plot')\n",
    "eventsBoxPlot=hv.BoxWhisker(c_df, kdims=['Population'],vdims='Events').relabel('Population Events Box Plot')\n",
    "percentBoxPlot+eventsBoxPlot"
   ]
  },
  {
   "cell_type": "code",
   "execution_count": null,
   "metadata": {},
   "outputs": [],
   "source": [
    "%%output backend=\"bokeh\"\n",
    "%%opts Scatter [width=1200 height=600 scaling_method='width' scaling_factor=0.1 size_index=2 show_grid=True tools=['hover']] \n",
    "%%opts Scatter (color=Cycle('Category20') alpha=0.8 line_color='k')\n",
    "%%opts NdOverlay [legend_position='bottom' show_frame=False]\n",
    "cdf_table=hv.Table(c_df,kdims=['Sample','Population'],vdims=['Percent','Events'])\n",
    "cdf_scatter = cdf_table.to.scatter('Population', ['Percent','Events'])\n",
    "cdf_plot=cdf_scatter.overlay('Sample').relabel(\"Cross Sample Population Percent Comparison with Events Scaling\")\n",
    "(percentBoxPlot*cdf_plot).relabel(\"All-sample Population Percentage Boxplot with Relative Events Scaling\")\n",
    "#bdf_scatter.overlay('Sample')"
   ]
  },
  {
   "cell_type": "markdown",
   "metadata": {},
   "source": [
    "### Bar Plots "
   ]
  },
  {
   "cell_type": "code",
   "execution_count": null,
   "metadata": {},
   "outputs": [],
   "source": [
    "%%output backend='matplotlib' size=400\n",
    "hv.Bars(c_df,kdims=['Sample','Population'],vdims='Percent').relabel('Population Percent Bar Graph')+hv.Bars(c_df,kdims=['Sample','Population'],vdims='Events').relabel('Population Events Bar Graph')"
   ]
  },
  {
   "cell_type": "code",
   "execution_count": null,
   "metadata": {
    "collapsed": true
   },
   "outputs": [],
   "source": [
    "#percentageMap=hv.HoloMap({(sample): hv.Bars(batchpercent_df[sample], 'population', 'percentage') for sample in sample_labels}, kdims=['Sample'])\n",
    "#hv.NdLayout(percentageMap)"
   ]
  },
  {
   "cell_type": "code",
   "execution_count": null,
   "metadata": {
    "collapsed": true
   },
   "outputs": [],
   "source": [
    "#eventMap=hv.HoloMap({(sample): hv.Bars(batchevents_df[sample], 'population', 'events') for sample in sample_labels}, kdims=['Sample'])\n",
    "#hv.NdLayout(eventMap)"
   ]
  },
  {
   "cell_type": "code",
   "execution_count": null,
   "metadata": {
    "collapsed": true
   },
   "outputs": [],
   "source": [
    "centroidFiles=sorted(glob('Gated/*/cent*.txt'))\n",
    "reclusterset=set([\"pop\"+os.path.basename(fn).split(\".\")[0].split(\"centroids\")[1]for fn in centroidFiles])"
   ]
  },
  {
   "cell_type": "code",
   "execution_count": null,
   "metadata": {
    "collapsed": true
   },
   "outputs": [],
   "source": [
    "reclustermap={}\n",
    "currentcluster=\"pop0\"\n",
    "for j, gate in enumerate(gatesconfig):\n",
    "    parent=\"pop\"+str(gate[3])\n",
    "    if parent in reclusterset:\n",
    "        currentcluster=parent\n",
    "    reclustermap.update({gate[0]: currentcluster})\n",
    "        "
   ]
  },
  {
   "cell_type": "code",
   "execution_count": null,
   "metadata": {
    "collapsed": true
   },
   "outputs": [],
   "source": [
    "centDict=dict(((os.path.split(os.path.dirname(fn))[1]+\"_pop\"+os.path.basename(fn).split(\".\")[0].split(\"centroids\")[1], parseDAFi(fn)) for fn in centroidFiles))\n",
    "#centDict=compute(*centDelayed, get=dask.threaded.get)"
   ]
  },
  {
   "cell_type": "code",
   "execution_count": null,
   "metadata": {
    "collapsed": true
   },
   "outputs": [],
   "source": [
    "centArray=[[sample, gate[0], centDict.has_key(sample+\"_\"+reclustermap.get(gate[0]))] for k, sample in enumerate(sample_labels) for j, gate in enumerate(gatesconfig)]"
   ]
  },
  {
   "cell_type": "code",
   "execution_count": null,
   "metadata": {
    "collapsed": true
   },
   "outputs": [],
   "source": [
    "centroiddfPlots = hv.HoloMap({(sample, gate[0]): hv.Points(centDict.get(sample+\"_\"+reclustermap.get(gate[0])), kdims=[gate[1], gate[2]], group=\"cent\")\n",
    "                    for k, sample in enumerate(sample_labels) for j, gate in enumerate(gatesconfig)}, kdims=['Sample', 'Plot'])"
   ]
  },
  {
   "cell_type": "markdown",
   "metadata": {
    "extensions": {
     "jupyter_dashboards": {
      "version": 1,
      "views": {
       "grid_default": {
        "col": 7,
        "height": 4,
        "hidden": false,
        "row": 30,
        "width": 4
       },
       "report_default": {
        "hidden": false
       }
      }
     }
    }
   },
   "source": [
    "# Composite 2D Dot-Plots Gated Populations"
   ]
  },
  {
   "cell_type": "code",
   "execution_count": null,
   "metadata": {
    "collapsed": true,
    "extensions": {
     "jupyter_dashboards": {
      "version": 1,
      "views": {
       "grid_default": {},
       "report_default": {
        "hidden": true
       }
      }
     }
    }
   },
   "outputs": [],
   "source": [
    "poplist=natural_sort(popBounds.keys())\n",
    "hv.opts(\"RGB [width=600, height=600, bgcolor='#D3D3D3', fontsize={'title':15, 'xlabel':10, 'ylabel':10, 'ticks':10}]\")\n"
   ]
  },
  {
   "cell_type": "code",
   "execution_count": null,
   "metadata": {
    "collapsed": true
   },
   "outputs": [],
   "source": [
    "hv.opts(\"Points.cent (color='purple' marker='+' size=10)\")\n"
   ]
  },
  {
   "cell_type": "code",
   "execution_count": null,
   "metadata": {
    "collapsed": true,
    "extensions": {
     "jupyter_dashboards": {
      "version": 1,
      "views": {
       "grid_default": {},
       "report_default": {
        "hidden": false
       }
      }
     }
    }
   },
   "outputs": [],
   "source": [
    "size=600\n",
    "popdfPlots = hv.HoloMap({(sample, gate[0]): datashade(hv.Points(dfArray[k][1].loc[dfArray[k][1][gate[0]]==0], kdims=[gate[1], gate[2]]), width=size, height=size, x_range=(0,4096), y_range=(0,4096), dynamic=False, link_inputs=False, cmap=cmap_pop[j])\n",
    "                    for k, sample in enumerate(sample_labels) for j, gate in enumerate(gatesconfig)}, kdims=['Sample', 'Plot'])\n",
    "alldfPlots = hv.HoloMap({(sample, gate[0]): datashade(hv.Points(dfArray[k][1], kdims=[gate[1], gate[2]]), width=size, height=size, x_range=(0,4096), y_range=(0,4096), dynamic=False, link_inputs=False, cmap=cmap_all)\n",
    "                    for k, sample in enumerate(sample_labels) for j, gate in enumerate(gatesconfig)}, kdims=['Sample', 'Plot'])\n",
    "parentdfPlots = hv.HoloMap({(sample, gate[0]): datashade(hv.Points(dfArray[k][1].loc[(dfArray[k][1][\"pop\"+str(gate[3])]==0) & (dfArray[k][1][gate[0]]==1)], kdims=[gate[1], gate[2]]), width=size, height=size, x_range=(0,4096), y_range=(0,4096), dynamic=False, link_inputs=False, cmap=cmap_parent)\n",
    "                    for k, sample in enumerate(sample_labels) for j, gate in enumerate(gatesconfig)}, kdims=['Sample', 'Plot'])\n",
    "boundarydfPlots = hv.HoloMap({(sample, gate[0]): hv.Bounds((popBounds.get(gate[0])[2], popBounds.get(gate[0])[3], popBounds.get(gate[0])[4], popBounds.get(gate[0])[5])).opts(style=dict(line_color=cmap_pop[j][0],color=cmap_pop[j][0]))\n",
    "                    for k, sample in enumerate(sample_labels) for j, gate in enumerate(gatesconfig)}, kdims=['Sample', 'Plot'])\n",
    "centroiddfPlots = hv.HoloMap({(sample, gate[0]): hv.Points(centDict.get(sample+\"_\"+reclustermap.get(gate[0])), kdims=[gate[1], gate[2]], group=\"cent\")\n",
    "                    for k, sample in enumerate(sample_labels) for j, gate in enumerate(gatesconfig)}, kdims=['Sample', 'Plot'])\n",
    "\n"
   ]
  },
  {
   "cell_type": "code",
   "execution_count": null,
   "metadata": {
    "collapsed": true
   },
   "outputs": [],
   "source": [
    "def outputSampleGates(sample):\n",
    "    \n",
    "    filename=export_path+\"/\"+sample\n",
    "    hv.output(hv.NdLayout(combineddfPlots[sample,:]).cols(1), backend='matplotlib', size=200, fig='png', filename=filename)\n",
    "    \n",
    "    return filename\n",
    "\n",
    "def outputPopGates(pop):\n",
    "    \n",
    "    filename=export_path+\"/\"+pop\n",
    "    length=len(combineddfPlots[:,pop])\n",
    "    hv.output(hv.NdLayout(combineddfPlots[:,pop]).cols(length), backend='matplotlib', size=200, fig='html', filename=filename)\n",
    "    \n",
    "    return filename\n",
    "\n",
    "def displaySampleGates(sample):\n",
    "    \n",
    "    filename=export_path+\"/\"+sample\n",
    "    temp=hv.NdLayout(combineddfPlots[sample,:]).cols(1)\n",
    "    \n",
    "    return temp\n",
    "\n",
    "def displayPopGates(pop):\n",
    "    \n",
    "    filename=export_path+\"/\"+pop\n",
    "    length=len(combineddfPlots[:,pop])\n",
    "    temp=hv.NdLayout(combineddfPlots[:,pop]).cols(length)\n",
    "    \n",
    "    return temp"
   ]
  },
  {
   "cell_type": "code",
   "execution_count": null,
   "metadata": {
    "collapsed": true,
    "extensions": {
     "jupyter_dashboards": {
      "version": 1,
      "views": {
       "grid_default": {},
       "report_default": {
        "hidden": true
       }
      }
     }
    },
    "scrolled": false
   },
   "outputs": [],
   "source": [
    "#hv.opts(\"RGB [width=600, height=600, bgcolor='#D3D3D3', fontsize={'title':15, 'xlabel':10, 'ylabel':10, 'ticks':10}]\")\n",
    "#temp=hv.output(hv.NdLayout(combineddfPlots).cols(5), backend='matplotlib', size=200, fig='png', filename=export_path+\"/sample_composite\")"
   ]
  },
  {
   "cell_type": "code",
   "execution_count": null,
   "metadata": {
    "collapsed": true
   },
   "outputs": [],
   "source": [
    "#display(HTML('<iframe src=PNG/pop2.html width=3000 height=350> </iframe>'),HTML('<iframe src=PNG/pop3.html width=3000 height=350></iframe>'))"
   ]
  },
  {
   "cell_type": "code",
   "execution_count": null,
   "metadata": {
    "collapsed": true
   },
   "outputs": [],
   "source": [
    "#%%time \n",
    "#testOutput2=[[pop, outputPopGates(pop)] for pop in poplist]"
   ]
  },
  {
   "cell_type": "code",
   "execution_count": null,
   "metadata": {
    "collapsed": true,
    "extensions": {
     "jupyter_dashboards": {
      "version": 1,
      "views": {
       "grid_default": {},
       "report_default": {
        "hidden": false
       }
      }
     }
    }
   },
   "outputs": [],
   "source": [
    "combineddfPlots=alldfPlots*parentdfPlots*popdfPlots*boundarydfPlots\n",
    "#combineddfPlots=alldfPlots*parentdfPlots*popdfPlots*boundarydfPlots*centroiddfPlots\n",
    "testOutput=[[sample, outputSampleGates(sample)] for sample in sample_labels]"
   ]
  },
  {
   "cell_type": "code",
   "execution_count": null,
   "metadata": {
    "collapsed": true
   },
   "outputs": [],
   "source": [
    "html=''.join(html_row(sample) for sample in sample_labels)\n",
    "#widgets.HTML(value=html, layout=row_layout)"
   ]
  },
  {
   "cell_type": "code",
   "execution_count": null,
   "metadata": {
    "collapsed": true,
    "scrolled": false
   },
   "outputs": [],
   "source": [
    "#testOutput2=[[pop, outputPopGates(pop)] for pop in poplist]\n",
    "#images=[Image(filename = export_path+\"/\"+pop+\".png\") for pop in poplist]\n",
    "#display(*images)"
   ]
  },
  {
   "cell_type": "code",
   "execution_count": null,
   "metadata": {
    "extensions": {
     "jupyter_dashboards": {
      "version": 1,
      "views": {
       "grid_default": {},
       "report_default": {
        "hidden": false
       }
      }
     }
    },
    "scrolled": false
   },
   "outputs": [],
   "source": [
    "html=\"\".join(html_row(sample) for sample in sample_labels)\n",
    "display(HTML(html))"
   ]
  },
  {
   "cell_type": "code",
   "execution_count": null,
   "metadata": {
    "extensions": {
     "jupyter_dashboards": {
      "version": 1,
      "views": {
       "grid_default": {},
       "report_default": {
        "hidden": true
       }
      }
     }
    }
   },
   "outputs": [],
   "source": [
    "HTML('''<script>\n",
    "code_show=true; \n",
    "function code_toggle() {\n",
    " if (code_show){\n",
    " $('div.input').hide();\n",
    " } else {\n",
    " $('div.input').show();\n",
    " }\n",
    " code_show = !code_show\n",
    "} \n",
    "$( document ).ready(code_toggle);\n",
    "</script>\n",
    "<form action=\"javascript:code_toggle()\"><input type=\"submit\" value=\"Click here to toggle on/off the raw code.\"></form>''')"
   ]
  }
 ],
 "metadata": {
  "extensions": {
   "jupyter_dashboards": {
    "activeView": "report_default",
    "version": 1,
    "views": {
     "grid_default": {
      "cellMargin": 10,
      "defaultCellHeight": 20,
      "maxColumns": 12,
      "name": "grid",
      "type": "grid"
     },
     "report_default": {
      "name": "report",
      "type": "report"
     }
    }
   }
  },
  "kernelspec": {
   "display_name": "Python 2",
   "language": "python",
   "name": "python2"
  },
  "language_info": {
   "codemirror_mode": {
    "name": "ipython",
    "version": 2
   },
   "file_extension": ".py",
   "mimetype": "text/x-python",
   "name": "python",
   "nbconvert_exporter": "python",
   "pygments_lexer": "ipython2",
   "version": "2.7.14"
  }
 },
 "nbformat": 4,
 "nbformat_minor": 2
}
